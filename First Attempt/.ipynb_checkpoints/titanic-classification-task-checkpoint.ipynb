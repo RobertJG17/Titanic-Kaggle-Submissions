{
 "cells": [
  {
   "cell_type": "markdown",
   "metadata": {},
   "source": [
    "# Kaggle - Titanic Data Competition\n",
    "\n",
    "<img src=\"assets/titanic.jpeg\"/>"
   ]
  },
  {
   "cell_type": "code",
   "execution_count": 209,
   "metadata": {
    "_cell_guid": "b1076dfc-b9ad-4769-8c92-a6c4dae69d19",
    "_uuid": "8f2839f25d086af736a60e9eeb907d3b93b6e0e5",
    "execution": {
     "iopub.execute_input": "2021-06-12T08:10:53.764304Z",
     "iopub.status.busy": "2021-06-12T08:10:53.762487Z",
     "iopub.status.idle": "2021-06-12T08:10:53.776970Z",
     "shell.execute_reply": "2021-06-12T08:10:53.777552Z",
     "shell.execute_reply.started": "2021-06-12T07:44:04.869753Z"
    },
    "papermill": {
     "duration": 0.057415,
     "end_time": "2021-06-12T08:10:53.777888",
     "exception": false,
     "start_time": "2021-06-12T08:10:53.720473",
     "status": "completed"
    },
    "tags": []
   },
   "outputs": [],
   "source": [
    "import numpy as np # linear algebra\n",
    "import pandas as pd # data processing, CSV file I/O (e.g. pd.read_csv)"
   ]
  },
  {
   "cell_type": "markdown",
   "metadata": {
    "papermill": {
     "duration": 0.036317,
     "end_time": "2021-06-12T08:10:53.851402",
     "exception": false,
     "start_time": "2021-06-12T08:10:53.815085",
     "status": "completed"
    },
    "tags": []
   },
   "source": [
    "# Data Cleaning/Preprocessing\n",
    "* It appears there are only 2 features that have a high volume of NaN columns. They are relatively inconsequential features since we will not use them to train our ML model. Thus, we will choose to drop these columns.\n",
    "* Since we would like to feed our model information about a person's gender, we will use dummy encoding to map integral values to each binary string classifier {\"female\": 1, \"male\": 0}"
   ]
  },
  {
   "cell_type": "code",
   "execution_count": 210,
   "metadata": {
    "execution": {
     "iopub.execute_input": "2021-06-12T08:10:53.927811Z",
     "iopub.status.busy": "2021-06-12T08:10:53.926783Z",
     "iopub.status.idle": "2021-06-12T08:10:53.987702Z",
     "shell.execute_reply": "2021-06-12T08:10:53.988241Z",
     "shell.execute_reply.started": "2021-06-12T07:44:04.883832Z"
    },
    "papermill": {
     "duration": 0.101,
     "end_time": "2021-06-12T08:10:53.988422",
     "exception": false,
     "start_time": "2021-06-12T08:10:53.887422",
     "status": "completed"
    },
    "tags": []
   },
   "outputs": [
    {
     "data": {
      "text/html": [
       "<div>\n",
       "<style scoped>\n",
       "    .dataframe tbody tr th:only-of-type {\n",
       "        vertical-align: middle;\n",
       "    }\n",
       "\n",
       "    .dataframe tbody tr th {\n",
       "        vertical-align: top;\n",
       "    }\n",
       "\n",
       "    .dataframe thead th {\n",
       "        text-align: right;\n",
       "    }\n",
       "</style>\n",
       "<table border=\"1\" class=\"dataframe\">\n",
       "  <thead>\n",
       "    <tr style=\"text-align: right;\">\n",
       "      <th></th>\n",
       "      <th>PassengerId</th>\n",
       "      <th>Survived</th>\n",
       "      <th>Pclass</th>\n",
       "      <th>Name</th>\n",
       "      <th>Sex</th>\n",
       "      <th>Age</th>\n",
       "      <th>SibSp</th>\n",
       "      <th>Parch</th>\n",
       "      <th>Ticket</th>\n",
       "      <th>Fare</th>\n",
       "      <th>Cabin</th>\n",
       "      <th>Embarked</th>\n",
       "    </tr>\n",
       "  </thead>\n",
       "  <tbody>\n",
       "    <tr>\n",
       "      <th>0</th>\n",
       "      <td>1</td>\n",
       "      <td>0</td>\n",
       "      <td>3</td>\n",
       "      <td>Braund, Mr. Owen Harris</td>\n",
       "      <td>male</td>\n",
       "      <td>22.0</td>\n",
       "      <td>1</td>\n",
       "      <td>0</td>\n",
       "      <td>A/5 21171</td>\n",
       "      <td>7.2500</td>\n",
       "      <td>NaN</td>\n",
       "      <td>S</td>\n",
       "    </tr>\n",
       "    <tr>\n",
       "      <th>1</th>\n",
       "      <td>2</td>\n",
       "      <td>1</td>\n",
       "      <td>1</td>\n",
       "      <td>Cumings, Mrs. John Bradley (Florence Briggs Th...</td>\n",
       "      <td>female</td>\n",
       "      <td>38.0</td>\n",
       "      <td>1</td>\n",
       "      <td>0</td>\n",
       "      <td>PC 17599</td>\n",
       "      <td>71.2833</td>\n",
       "      <td>C85</td>\n",
       "      <td>C</td>\n",
       "    </tr>\n",
       "    <tr>\n",
       "      <th>2</th>\n",
       "      <td>3</td>\n",
       "      <td>1</td>\n",
       "      <td>3</td>\n",
       "      <td>Heikkinen, Miss. Laina</td>\n",
       "      <td>female</td>\n",
       "      <td>26.0</td>\n",
       "      <td>0</td>\n",
       "      <td>0</td>\n",
       "      <td>STON/O2. 3101282</td>\n",
       "      <td>7.9250</td>\n",
       "      <td>NaN</td>\n",
       "      <td>S</td>\n",
       "    </tr>\n",
       "    <tr>\n",
       "      <th>3</th>\n",
       "      <td>4</td>\n",
       "      <td>1</td>\n",
       "      <td>1</td>\n",
       "      <td>Futrelle, Mrs. Jacques Heath (Lily May Peel)</td>\n",
       "      <td>female</td>\n",
       "      <td>35.0</td>\n",
       "      <td>1</td>\n",
       "      <td>0</td>\n",
       "      <td>113803</td>\n",
       "      <td>53.1000</td>\n",
       "      <td>C123</td>\n",
       "      <td>S</td>\n",
       "    </tr>\n",
       "    <tr>\n",
       "      <th>4</th>\n",
       "      <td>5</td>\n",
       "      <td>0</td>\n",
       "      <td>3</td>\n",
       "      <td>Allen, Mr. William Henry</td>\n",
       "      <td>male</td>\n",
       "      <td>35.0</td>\n",
       "      <td>0</td>\n",
       "      <td>0</td>\n",
       "      <td>373450</td>\n",
       "      <td>8.0500</td>\n",
       "      <td>NaN</td>\n",
       "      <td>S</td>\n",
       "    </tr>\n",
       "    <tr>\n",
       "      <th>...</th>\n",
       "      <td>...</td>\n",
       "      <td>...</td>\n",
       "      <td>...</td>\n",
       "      <td>...</td>\n",
       "      <td>...</td>\n",
       "      <td>...</td>\n",
       "      <td>...</td>\n",
       "      <td>...</td>\n",
       "      <td>...</td>\n",
       "      <td>...</td>\n",
       "      <td>...</td>\n",
       "      <td>...</td>\n",
       "    </tr>\n",
       "    <tr>\n",
       "      <th>886</th>\n",
       "      <td>887</td>\n",
       "      <td>0</td>\n",
       "      <td>2</td>\n",
       "      <td>Montvila, Rev. Juozas</td>\n",
       "      <td>male</td>\n",
       "      <td>27.0</td>\n",
       "      <td>0</td>\n",
       "      <td>0</td>\n",
       "      <td>211536</td>\n",
       "      <td>13.0000</td>\n",
       "      <td>NaN</td>\n",
       "      <td>S</td>\n",
       "    </tr>\n",
       "    <tr>\n",
       "      <th>887</th>\n",
       "      <td>888</td>\n",
       "      <td>1</td>\n",
       "      <td>1</td>\n",
       "      <td>Graham, Miss. Margaret Edith</td>\n",
       "      <td>female</td>\n",
       "      <td>19.0</td>\n",
       "      <td>0</td>\n",
       "      <td>0</td>\n",
       "      <td>112053</td>\n",
       "      <td>30.0000</td>\n",
       "      <td>B42</td>\n",
       "      <td>S</td>\n",
       "    </tr>\n",
       "    <tr>\n",
       "      <th>888</th>\n",
       "      <td>889</td>\n",
       "      <td>0</td>\n",
       "      <td>3</td>\n",
       "      <td>Johnston, Miss. Catherine Helen \"Carrie\"</td>\n",
       "      <td>female</td>\n",
       "      <td>NaN</td>\n",
       "      <td>1</td>\n",
       "      <td>2</td>\n",
       "      <td>W./C. 6607</td>\n",
       "      <td>23.4500</td>\n",
       "      <td>NaN</td>\n",
       "      <td>S</td>\n",
       "    </tr>\n",
       "    <tr>\n",
       "      <th>889</th>\n",
       "      <td>890</td>\n",
       "      <td>1</td>\n",
       "      <td>1</td>\n",
       "      <td>Behr, Mr. Karl Howell</td>\n",
       "      <td>male</td>\n",
       "      <td>26.0</td>\n",
       "      <td>0</td>\n",
       "      <td>0</td>\n",
       "      <td>111369</td>\n",
       "      <td>30.0000</td>\n",
       "      <td>C148</td>\n",
       "      <td>C</td>\n",
       "    </tr>\n",
       "    <tr>\n",
       "      <th>890</th>\n",
       "      <td>891</td>\n",
       "      <td>0</td>\n",
       "      <td>3</td>\n",
       "      <td>Dooley, Mr. Patrick</td>\n",
       "      <td>male</td>\n",
       "      <td>32.0</td>\n",
       "      <td>0</td>\n",
       "      <td>0</td>\n",
       "      <td>370376</td>\n",
       "      <td>7.7500</td>\n",
       "      <td>NaN</td>\n",
       "      <td>Q</td>\n",
       "    </tr>\n",
       "  </tbody>\n",
       "</table>\n",
       "<p>891 rows × 12 columns</p>\n",
       "</div>"
      ],
      "text/plain": [
       "     PassengerId  Survived  Pclass  \\\n",
       "0              1         0       3   \n",
       "1              2         1       1   \n",
       "2              3         1       3   \n",
       "3              4         1       1   \n",
       "4              5         0       3   \n",
       "..           ...       ...     ...   \n",
       "886          887         0       2   \n",
       "887          888         1       1   \n",
       "888          889         0       3   \n",
       "889          890         1       1   \n",
       "890          891         0       3   \n",
       "\n",
       "                                                  Name     Sex   Age  SibSp  \\\n",
       "0                              Braund, Mr. Owen Harris    male  22.0      1   \n",
       "1    Cumings, Mrs. John Bradley (Florence Briggs Th...  female  38.0      1   \n",
       "2                               Heikkinen, Miss. Laina  female  26.0      0   \n",
       "3         Futrelle, Mrs. Jacques Heath (Lily May Peel)  female  35.0      1   \n",
       "4                             Allen, Mr. William Henry    male  35.0      0   \n",
       "..                                                 ...     ...   ...    ...   \n",
       "886                              Montvila, Rev. Juozas    male  27.0      0   \n",
       "887                       Graham, Miss. Margaret Edith  female  19.0      0   \n",
       "888           Johnston, Miss. Catherine Helen \"Carrie\"  female   NaN      1   \n",
       "889                              Behr, Mr. Karl Howell    male  26.0      0   \n",
       "890                                Dooley, Mr. Patrick    male  32.0      0   \n",
       "\n",
       "     Parch            Ticket     Fare Cabin Embarked  \n",
       "0        0         A/5 21171   7.2500   NaN        S  \n",
       "1        0          PC 17599  71.2833   C85        C  \n",
       "2        0  STON/O2. 3101282   7.9250   NaN        S  \n",
       "3        0            113803  53.1000  C123        S  \n",
       "4        0            373450   8.0500   NaN        S  \n",
       "..     ...               ...      ...   ...      ...  \n",
       "886      0            211536  13.0000   NaN        S  \n",
       "887      0            112053  30.0000   B42        S  \n",
       "888      2        W./C. 6607  23.4500   NaN        S  \n",
       "889      0            111369  30.0000  C148        C  \n",
       "890      0            370376   7.7500   NaN        Q  \n",
       "\n",
       "[891 rows x 12 columns]"
      ]
     },
     "execution_count": 210,
     "metadata": {},
     "output_type": "execute_result"
    }
   ],
   "source": [
    "df = pd.read_csv(\"DATA/train.csv\")\n",
    "df"
   ]
  },
  {
   "cell_type": "code",
   "execution_count": 211,
   "metadata": {
    "execution": {
     "iopub.execute_input": "2021-06-12T08:10:54.071912Z",
     "iopub.status.busy": "2021-06-12T08:10:54.070974Z",
     "iopub.status.idle": "2021-06-12T08:10:54.075370Z",
     "shell.execute_reply": "2021-06-12T08:10:54.074742Z",
     "shell.execute_reply.started": "2021-06-12T07:44:04.958084Z"
    },
    "papermill": {
     "duration": 0.05001,
     "end_time": "2021-06-12T08:10:54.075513",
     "exception": false,
     "start_time": "2021-06-12T08:10:54.025503",
     "status": "completed"
    },
    "tags": []
   },
   "outputs": [
    {
     "data": {
      "text/plain": [
       "PassengerId      0\n",
       "Survived         0\n",
       "Pclass           0\n",
       "Name             0\n",
       "Sex              0\n",
       "Age            177\n",
       "SibSp            0\n",
       "Parch            0\n",
       "Ticket           0\n",
       "Fare             0\n",
       "Cabin          687\n",
       "Embarked         2\n",
       "dtype: int64"
      ]
     },
     "execution_count": 211,
     "metadata": {},
     "output_type": "execute_result"
    }
   ],
   "source": [
    "df.isnull().sum()"
   ]
  },
  {
   "cell_type": "code",
   "execution_count": 212,
   "metadata": {
    "execution": {
     "iopub.execute_input": "2021-06-12T08:10:54.153810Z",
     "iopub.status.busy": "2021-06-12T08:10:54.153196Z",
     "iopub.status.idle": "2021-06-12T08:10:54.185264Z",
     "shell.execute_reply": "2021-06-12T08:10:54.185832Z",
     "shell.execute_reply.started": "2021-06-12T07:44:04.971253Z"
    },
    "papermill": {
     "duration": 0.072901,
     "end_time": "2021-06-12T08:10:54.186014",
     "exception": false,
     "start_time": "2021-06-12T08:10:54.113113",
     "status": "completed"
    },
    "tags": []
   },
   "outputs": [
    {
     "data": {
      "text/html": [
       "<div>\n",
       "<style scoped>\n",
       "    .dataframe tbody tr th:only-of-type {\n",
       "        vertical-align: middle;\n",
       "    }\n",
       "\n",
       "    .dataframe tbody tr th {\n",
       "        vertical-align: top;\n",
       "    }\n",
       "\n",
       "    .dataframe thead th {\n",
       "        text-align: right;\n",
       "    }\n",
       "</style>\n",
       "<table border=\"1\" class=\"dataframe\">\n",
       "  <thead>\n",
       "    <tr style=\"text-align: right;\">\n",
       "      <th></th>\n",
       "      <th>PassengerId</th>\n",
       "      <th>Survived</th>\n",
       "      <th>Pclass</th>\n",
       "      <th>Name</th>\n",
       "      <th>SibSp</th>\n",
       "      <th>Parch</th>\n",
       "      <th>Ticket</th>\n",
       "      <th>Fare</th>\n",
       "      <th>Embarked</th>\n",
       "      <th>Sex Encoded</th>\n",
       "    </tr>\n",
       "  </thead>\n",
       "  <tbody>\n",
       "    <tr>\n",
       "      <th>0</th>\n",
       "      <td>1</td>\n",
       "      <td>0</td>\n",
       "      <td>3</td>\n",
       "      <td>Braund, Mr. Owen Harris</td>\n",
       "      <td>1</td>\n",
       "      <td>0</td>\n",
       "      <td>A/5 21171</td>\n",
       "      <td>7.2500</td>\n",
       "      <td>S</td>\n",
       "      <td>0</td>\n",
       "    </tr>\n",
       "    <tr>\n",
       "      <th>1</th>\n",
       "      <td>2</td>\n",
       "      <td>1</td>\n",
       "      <td>1</td>\n",
       "      <td>Cumings, Mrs. John Bradley (Florence Briggs Th...</td>\n",
       "      <td>1</td>\n",
       "      <td>0</td>\n",
       "      <td>PC 17599</td>\n",
       "      <td>71.2833</td>\n",
       "      <td>C</td>\n",
       "      <td>1</td>\n",
       "    </tr>\n",
       "    <tr>\n",
       "      <th>2</th>\n",
       "      <td>3</td>\n",
       "      <td>1</td>\n",
       "      <td>3</td>\n",
       "      <td>Heikkinen, Miss. Laina</td>\n",
       "      <td>0</td>\n",
       "      <td>0</td>\n",
       "      <td>STON/O2. 3101282</td>\n",
       "      <td>7.9250</td>\n",
       "      <td>S</td>\n",
       "      <td>1</td>\n",
       "    </tr>\n",
       "    <tr>\n",
       "      <th>3</th>\n",
       "      <td>4</td>\n",
       "      <td>1</td>\n",
       "      <td>1</td>\n",
       "      <td>Futrelle, Mrs. Jacques Heath (Lily May Peel)</td>\n",
       "      <td>1</td>\n",
       "      <td>0</td>\n",
       "      <td>113803</td>\n",
       "      <td>53.1000</td>\n",
       "      <td>S</td>\n",
       "      <td>1</td>\n",
       "    </tr>\n",
       "    <tr>\n",
       "      <th>4</th>\n",
       "      <td>5</td>\n",
       "      <td>0</td>\n",
       "      <td>3</td>\n",
       "      <td>Allen, Mr. William Henry</td>\n",
       "      <td>0</td>\n",
       "      <td>0</td>\n",
       "      <td>373450</td>\n",
       "      <td>8.0500</td>\n",
       "      <td>S</td>\n",
       "      <td>0</td>\n",
       "    </tr>\n",
       "    <tr>\n",
       "      <th>...</th>\n",
       "      <td>...</td>\n",
       "      <td>...</td>\n",
       "      <td>...</td>\n",
       "      <td>...</td>\n",
       "      <td>...</td>\n",
       "      <td>...</td>\n",
       "      <td>...</td>\n",
       "      <td>...</td>\n",
       "      <td>...</td>\n",
       "      <td>...</td>\n",
       "    </tr>\n",
       "    <tr>\n",
       "      <th>886</th>\n",
       "      <td>887</td>\n",
       "      <td>0</td>\n",
       "      <td>2</td>\n",
       "      <td>Montvila, Rev. Juozas</td>\n",
       "      <td>0</td>\n",
       "      <td>0</td>\n",
       "      <td>211536</td>\n",
       "      <td>13.0000</td>\n",
       "      <td>S</td>\n",
       "      <td>0</td>\n",
       "    </tr>\n",
       "    <tr>\n",
       "      <th>887</th>\n",
       "      <td>888</td>\n",
       "      <td>1</td>\n",
       "      <td>1</td>\n",
       "      <td>Graham, Miss. Margaret Edith</td>\n",
       "      <td>0</td>\n",
       "      <td>0</td>\n",
       "      <td>112053</td>\n",
       "      <td>30.0000</td>\n",
       "      <td>S</td>\n",
       "      <td>1</td>\n",
       "    </tr>\n",
       "    <tr>\n",
       "      <th>888</th>\n",
       "      <td>889</td>\n",
       "      <td>0</td>\n",
       "      <td>3</td>\n",
       "      <td>Johnston, Miss. Catherine Helen \"Carrie\"</td>\n",
       "      <td>1</td>\n",
       "      <td>2</td>\n",
       "      <td>W./C. 6607</td>\n",
       "      <td>23.4500</td>\n",
       "      <td>S</td>\n",
       "      <td>1</td>\n",
       "    </tr>\n",
       "    <tr>\n",
       "      <th>889</th>\n",
       "      <td>890</td>\n",
       "      <td>1</td>\n",
       "      <td>1</td>\n",
       "      <td>Behr, Mr. Karl Howell</td>\n",
       "      <td>0</td>\n",
       "      <td>0</td>\n",
       "      <td>111369</td>\n",
       "      <td>30.0000</td>\n",
       "      <td>C</td>\n",
       "      <td>0</td>\n",
       "    </tr>\n",
       "    <tr>\n",
       "      <th>890</th>\n",
       "      <td>891</td>\n",
       "      <td>0</td>\n",
       "      <td>3</td>\n",
       "      <td>Dooley, Mr. Patrick</td>\n",
       "      <td>0</td>\n",
       "      <td>0</td>\n",
       "      <td>370376</td>\n",
       "      <td>7.7500</td>\n",
       "      <td>Q</td>\n",
       "      <td>0</td>\n",
       "    </tr>\n",
       "  </tbody>\n",
       "</table>\n",
       "<p>891 rows × 10 columns</p>\n",
       "</div>"
      ],
      "text/plain": [
       "     PassengerId  Survived  Pclass  \\\n",
       "0              1         0       3   \n",
       "1              2         1       1   \n",
       "2              3         1       3   \n",
       "3              4         1       1   \n",
       "4              5         0       3   \n",
       "..           ...       ...     ...   \n",
       "886          887         0       2   \n",
       "887          888         1       1   \n",
       "888          889         0       3   \n",
       "889          890         1       1   \n",
       "890          891         0       3   \n",
       "\n",
       "                                                  Name  SibSp  Parch  \\\n",
       "0                              Braund, Mr. Owen Harris      1      0   \n",
       "1    Cumings, Mrs. John Bradley (Florence Briggs Th...      1      0   \n",
       "2                               Heikkinen, Miss. Laina      0      0   \n",
       "3         Futrelle, Mrs. Jacques Heath (Lily May Peel)      1      0   \n",
       "4                             Allen, Mr. William Henry      0      0   \n",
       "..                                                 ...    ...    ...   \n",
       "886                              Montvila, Rev. Juozas      0      0   \n",
       "887                       Graham, Miss. Margaret Edith      0      0   \n",
       "888           Johnston, Miss. Catherine Helen \"Carrie\"      1      2   \n",
       "889                              Behr, Mr. Karl Howell      0      0   \n",
       "890                                Dooley, Mr. Patrick      0      0   \n",
       "\n",
       "               Ticket     Fare Embarked  Sex Encoded  \n",
       "0           A/5 21171   7.2500        S            0  \n",
       "1            PC 17599  71.2833        C            1  \n",
       "2    STON/O2. 3101282   7.9250        S            1  \n",
       "3              113803  53.1000        S            1  \n",
       "4              373450   8.0500        S            0  \n",
       "..                ...      ...      ...          ...  \n",
       "886            211536  13.0000        S            0  \n",
       "887            112053  30.0000        S            1  \n",
       "888        W./C. 6607  23.4500        S            1  \n",
       "889            111369  30.0000        C            0  \n",
       "890            370376   7.7500        Q            0  \n",
       "\n",
       "[891 rows x 10 columns]"
      ]
     },
     "execution_count": 212,
     "metadata": {},
     "output_type": "execute_result"
    }
   ],
   "source": [
    "pd.options.mode.chained_assignment = None\n",
    "\n",
    "df[\"Sex Encoded\"] = pd.get_dummies(df[\"Sex\"])[\"female\"]\n",
    "df = df.drop([\"Age\", \"Cabin\", \"Sex\"], axis=1)\n",
    "\n",
    "df"
   ]
  },
  {
   "cell_type": "markdown",
   "metadata": {
    "papermill": {
     "duration": 0.037388,
     "end_time": "2021-06-12T08:10:54.261322",
     "exception": false,
     "start_time": "2021-06-12T08:10:54.223934",
     "status": "completed"
    },
    "tags": []
   },
   "source": [
    "# Exploratory Data Analysis w/ Titanic Data\n",
    "We will perform some exploratory data analysis with our current data to gain insight on feature distributions, explore relationships between features, and figure out how we should proceed with our feature selection process."
   ]
  },
  {
   "cell_type": "code",
   "execution_count": 213,
   "metadata": {
    "execution": {
     "iopub.execute_input": "2021-06-12T08:10:54.340707Z",
     "iopub.status.busy": "2021-06-12T08:10:54.340073Z",
     "iopub.status.idle": "2021-06-12T08:10:55.214427Z",
     "shell.execute_reply": "2021-06-12T08:10:55.215007Z",
     "shell.execute_reply.started": "2021-06-12T07:44:05.011988Z"
    },
    "papermill": {
     "duration": 0.91622,
     "end_time": "2021-06-12T08:10:55.215197",
     "exception": false,
     "start_time": "2021-06-12T08:10:54.298977",
     "status": "completed"
    },
    "tags": []
   },
   "outputs": [],
   "source": [
    "import matplotlib.pyplot as plt\n",
    "import seaborn as sns"
   ]
  },
  {
   "cell_type": "code",
   "execution_count": 214,
   "metadata": {
    "execution": {
     "iopub.execute_input": "2021-06-12T08:10:55.295082Z",
     "iopub.status.busy": "2021-06-12T08:10:55.294391Z",
     "iopub.status.idle": "2021-06-12T08:10:55.627035Z",
     "shell.execute_reply": "2021-06-12T08:10:55.627571Z",
     "shell.execute_reply.started": "2021-06-12T07:44:05.886535Z"
    },
    "papermill": {
     "duration": 0.374352,
     "end_time": "2021-06-12T08:10:55.627768",
     "exception": false,
     "start_time": "2021-06-12T08:10:55.253416",
     "status": "completed"
    },
    "tags": []
   },
   "outputs": [
    {
     "data": {
      "image/png": "[encoded data removed]",
      "text/plain": [
       "<Figure size 2400x1000 with 1 Axes>"
      ]
     },
     "metadata": {
      "needs_background": "light"
     },
     "output_type": "display_data"
    }
   ],
   "source": [
    "plt.figure(figsize=(12, 5), dpi=200)\n",
    "sns.countplot(x=\"Pclass\", data=df, hue=\"Survived\")\n",
    "plt.show()"
   ]
  },
  {
   "cell_type": "code",
   "execution_count": 215,
   "metadata": {
    "execution": {
     "iopub.execute_input": "2021-06-12T08:10:55.709938Z",
     "iopub.status.busy": "2021-06-12T08:10:55.709221Z",
     "iopub.status.idle": "2021-06-12T08:10:55.721291Z",
     "shell.execute_reply": "2021-06-12T08:10:55.721856Z",
     "shell.execute_reply.started": "2021-06-12T07:44:06.208223Z"
    },
    "papermill": {
     "duration": 0.054583,
     "end_time": "2021-06-12T08:10:55.722040",
     "exception": false,
     "start_time": "2021-06-12T08:10:55.667457",
     "status": "completed"
    },
    "tags": []
   },
   "outputs": [
    {
     "data": {
      "text/plain": [
       "Pclass\n",
       "1    0.629630\n",
       "2    0.472826\n",
       "3    0.242363\n",
       "Name: Survived, dtype: float64"
      ]
     },
     "execution_count": 215,
     "metadata": {},
     "output_type": "execute_result"
    }
   ],
   "source": [
    "df.groupby(\"Pclass\").mean()[\"Survived\"]"
   ]
  },
  {
   "cell_type": "code",
   "execution_count": 216,
   "metadata": {
    "execution": {
     "iopub.execute_input": "2021-06-12T08:10:55.805725Z",
     "iopub.status.busy": "2021-06-12T08:10:55.804960Z",
     "iopub.status.idle": "2021-06-12T08:10:56.065004Z",
     "shell.execute_reply": "2021-06-12T08:10:56.065475Z",
     "shell.execute_reply.started": "2021-06-12T07:44:06.223464Z"
    },
    "papermill": {
     "duration": 0.3036,
     "end_time": "2021-06-12T08:10:56.065681",
     "exception": false,
     "start_time": "2021-06-12T08:10:55.762081",
     "status": "completed"
    },
    "tags": []
   },
   "outputs": [
    {
     "data": {
      "image/png": "[encoded data removed]",
      "text/plain": [
       "<Figure size 2400x1000 with 1 Axes>"
      ]
     },
     "metadata": {
      "needs_background": "light"
     },
     "output_type": "display_data"
    }
   ],
   "source": [
    "plt.figure(figsize=(12, 5), dpi=200)\n",
    "sns.countplot(x=\"Sex Encoded\", data=df, hue=\"Survived\")\n",
    "plt.show();"
   ]
  },
  {
   "cell_type": "code",
   "execution_count": 217,
   "metadata": {
    "execution": {
     "iopub.execute_input": "2021-06-12T08:10:56.149954Z",
     "iopub.status.busy": "2021-06-12T08:10:56.149266Z",
     "iopub.status.idle": "2021-06-12T08:10:56.161153Z",
     "shell.execute_reply": "2021-06-12T08:10:56.160452Z",
     "shell.execute_reply.started": "2021-06-12T07:44:06.46586Z"
    },
    "papermill": {
     "duration": 0.055043,
     "end_time": "2021-06-12T08:10:56.161311",
     "exception": false,
     "start_time": "2021-06-12T08:10:56.106268",
     "status": "completed"
    },
    "tags": []
   },
   "outputs": [
    {
     "data": {
      "text/plain": [
       "Sex Encoded\n",
       "0    0.188908\n",
       "1    0.742038\n",
       "Name: Survived, dtype: float64"
      ]
     },
     "execution_count": 217,
     "metadata": {},
     "output_type": "execute_result"
    }
   ],
   "source": [
    "df.groupby(\"Sex Encoded\").mean()[\"Survived\"]"
   ]
  },
  {
   "cell_type": "markdown",
   "metadata": {
    "papermill": {
     "duration": 0.04058,
     "end_time": "2021-06-12T08:10:56.247028",
     "exception": false,
     "start_time": "2021-06-12T08:10:56.206448",
     "status": "completed"
    },
    "tags": []
   },
   "source": [
    "It appears as though a person's gender and socioeconomic standing was a decent predictor of weather or not they survived. It also appears that a person's number of parents and/or children seemed to garner a slightly higher survival rate."
   ]
  },
  {
   "cell_type": "code",
   "execution_count": 218,
   "metadata": {
    "execution": {
     "iopub.execute_input": "2021-06-12T08:10:56.333600Z",
     "iopub.status.busy": "2021-06-12T08:10:56.332617Z",
     "iopub.status.idle": "2021-06-12T08:10:56.344789Z",
     "shell.execute_reply": "2021-06-12T08:10:56.345405Z",
     "shell.execute_reply.started": "2021-06-12T07:44:06.479806Z"
    },
    "papermill": {
     "duration": 0.057202,
     "end_time": "2021-06-12T08:10:56.345616",
     "exception": false,
     "start_time": "2021-06-12T08:10:56.288414",
     "status": "completed"
    },
    "tags": []
   },
   "outputs": [
    {
     "data": {
      "text/plain": [
       "Pclass  Sex Encoded\n",
       "1       0              0.368852\n",
       "        1              0.968085\n",
       "2       0              0.157407\n",
       "        1              0.921053\n",
       "3       0              0.135447\n",
       "        1              0.500000\n",
       "Name: Survived, dtype: float64"
      ]
     },
     "execution_count": 218,
     "metadata": {},
     "output_type": "execute_result"
    }
   ],
   "source": [
    "df.groupby([\"Pclass\", \"Sex Encoded\"]).mean()[\"Survived\"]"
   ]
  },
  {
   "cell_type": "code",
   "execution_count": 219,
   "metadata": {
    "execution": {
     "iopub.execute_input": "2021-06-12T08:10:56.432886Z",
     "iopub.status.busy": "2021-06-12T08:10:56.431904Z",
     "iopub.status.idle": "2021-06-12T08:10:56.445660Z",
     "shell.execute_reply": "2021-06-12T08:10:56.445073Z",
     "shell.execute_reply.started": "2021-06-12T07:44:06.501221Z"
    },
    "papermill": {
     "duration": 0.05803,
     "end_time": "2021-06-12T08:10:56.445820",
     "exception": false,
     "start_time": "2021-06-12T08:10:56.387790",
     "status": "completed"
    },
    "tags": []
   },
   "outputs": [
    {
     "data": {
      "text/plain": [
       "Pclass  Parch\n",
       "1       0        0.607362\n",
       "        1        0.677419\n",
       "        2        0.761905\n",
       "        4        0.000000\n",
       "2       0        0.358209\n",
       "        1        0.750000\n",
       "        2        0.812500\n",
       "        3        1.000000\n",
       "3       0        0.225722\n",
       "        1        0.363636\n",
       "        2        0.255814\n",
       "        3        0.333333\n",
       "        4        0.000000\n",
       "        5        0.200000\n",
       "        6        0.000000\n",
       "Name: Survived, dtype: float64"
      ]
     },
     "execution_count": 219,
     "metadata": {},
     "output_type": "execute_result"
    }
   ],
   "source": [
    "df.groupby([\"Pclass\", \"Parch\"]).mean()[\"Survived\"]"
   ]
  },
  {
   "cell_type": "markdown",
   "metadata": {
    "papermill": {
     "duration": 0.041822,
     "end_time": "2021-06-12T08:10:56.533113",
     "exception": false,
     "start_time": "2021-06-12T08:10:56.491291",
     "status": "completed"
    },
    "tags": []
   },
   "source": [
    "# MODEL TRAINING\n",
    "* Feature Selection\n",
    "* Dummy Encoding for cateogrical features\n",
    "* LogsticRegressionCV Model\n",
    "* Potentially Adjusting Hyperparameters"
   ]
  },
  {
   "cell_type": "code",
   "execution_count": 220,
   "metadata": {
    "execution": {
     "iopub.execute_input": "2021-06-12T08:10:56.627453Z",
     "iopub.status.busy": "2021-06-12T08:10:56.626521Z",
     "iopub.status.idle": "2021-06-12T08:10:56.630943Z",
     "shell.execute_reply": "2021-06-12T08:10:56.630299Z",
     "shell.execute_reply.started": "2021-06-12T07:44:06.51759Z"
    },
    "papermill": {
     "duration": 0.056421,
     "end_time": "2021-06-12T08:10:56.631084",
     "exception": false,
     "start_time": "2021-06-12T08:10:56.574663",
     "status": "completed"
    },
    "tags": []
   },
   "outputs": [
    {
     "data": {
      "text/html": [
       "<div>\n",
       "<style scoped>\n",
       "    .dataframe tbody tr th:only-of-type {\n",
       "        vertical-align: middle;\n",
       "    }\n",
       "\n",
       "    .dataframe tbody tr th {\n",
       "        vertical-align: top;\n",
       "    }\n",
       "\n",
       "    .dataframe thead th {\n",
       "        text-align: right;\n",
       "    }\n",
       "</style>\n",
       "<table border=\"1\" class=\"dataframe\">\n",
       "  <thead>\n",
       "    <tr style=\"text-align: right;\">\n",
       "      <th></th>\n",
       "      <th>Pclass</th>\n",
       "      <th>Parch</th>\n",
       "      <th>Sex Encoded</th>\n",
       "      <th>Survived</th>\n",
       "    </tr>\n",
       "  </thead>\n",
       "  <tbody>\n",
       "    <tr>\n",
       "      <th>886</th>\n",
       "      <td>2</td>\n",
       "      <td>0</td>\n",
       "      <td>0</td>\n",
       "      <td>0</td>\n",
       "    </tr>\n",
       "    <tr>\n",
       "      <th>887</th>\n",
       "      <td>1</td>\n",
       "      <td>0</td>\n",
       "      <td>1</td>\n",
       "      <td>1</td>\n",
       "    </tr>\n",
       "    <tr>\n",
       "      <th>888</th>\n",
       "      <td>3</td>\n",
       "      <td>2</td>\n",
       "      <td>1</td>\n",
       "      <td>0</td>\n",
       "    </tr>\n",
       "    <tr>\n",
       "      <th>889</th>\n",
       "      <td>1</td>\n",
       "      <td>0</td>\n",
       "      <td>0</td>\n",
       "      <td>1</td>\n",
       "    </tr>\n",
       "    <tr>\n",
       "      <th>890</th>\n",
       "      <td>3</td>\n",
       "      <td>0</td>\n",
       "      <td>0</td>\n",
       "      <td>0</td>\n",
       "    </tr>\n",
       "  </tbody>\n",
       "</table>\n",
       "</div>"
      ],
      "text/plain": [
       "     Pclass  Parch  Sex Encoded  Survived\n",
       "886       2      0            0         0\n",
       "887       1      0            1         1\n",
       "888       3      2            1         0\n",
       "889       1      0            0         1\n",
       "890       3      0            0         0"
      ]
     },
     "execution_count": 220,
     "metadata": {},
     "output_type": "execute_result"
    }
   ],
   "source": [
    "# DATA INTERPOLATION CAUSED OVERALL DECREASE IN EFFICACY\n",
    "# Might have been due to my process of interpolation (Interpolating with weighted frequency)\n",
    "\n",
    "features = df[[\"Pclass\", \"Parch\", \"Sex Encoded\", \"Survived\"]]\n",
    "features.tail()"
   ]
  },
  {
   "cell_type": "code",
   "execution_count": 221,
   "metadata": {
    "execution": {
     "iopub.execute_input": "2021-06-12T08:10:56.725294Z",
     "iopub.status.busy": "2021-06-12T08:10:56.724381Z",
     "iopub.status.idle": "2021-06-12T08:10:56.729431Z",
     "shell.execute_reply": "2021-06-12T08:10:56.728821Z",
     "shell.execute_reply.started": "2021-06-12T07:44:06.530881Z"
    },
    "papermill": {
     "duration": 0.055719,
     "end_time": "2021-06-12T08:10:56.729605",
     "exception": false,
     "start_time": "2021-06-12T08:10:56.673886",
     "status": "completed"
    },
    "tags": []
   },
   "outputs": [
    {
     "data": {
      "text/html": [
       "<div>\n",
       "<style scoped>\n",
       "    .dataframe tbody tr th:only-of-type {\n",
       "        vertical-align: middle;\n",
       "    }\n",
       "\n",
       "    .dataframe tbody tr th {\n",
       "        vertical-align: top;\n",
       "    }\n",
       "\n",
       "    .dataframe thead th {\n",
       "        text-align: right;\n",
       "    }\n",
       "</style>\n",
       "<table border=\"1\" class=\"dataframe\">\n",
       "  <thead>\n",
       "    <tr style=\"text-align: right;\">\n",
       "      <th></th>\n",
       "      <th>Pclass</th>\n",
       "      <th>Parch</th>\n",
       "      <th>Sex Encoded</th>\n",
       "      <th>Survived</th>\n",
       "    </tr>\n",
       "  </thead>\n",
       "  <tbody>\n",
       "    <tr>\n",
       "      <th>0</th>\n",
       "      <td>3</td>\n",
       "      <td>0</td>\n",
       "      <td>0</td>\n",
       "      <td>0</td>\n",
       "    </tr>\n",
       "    <tr>\n",
       "      <th>1</th>\n",
       "      <td>1</td>\n",
       "      <td>0</td>\n",
       "      <td>1</td>\n",
       "      <td>1</td>\n",
       "    </tr>\n",
       "    <tr>\n",
       "      <th>2</th>\n",
       "      <td>3</td>\n",
       "      <td>0</td>\n",
       "      <td>1</td>\n",
       "      <td>1</td>\n",
       "    </tr>\n",
       "    <tr>\n",
       "      <th>3</th>\n",
       "      <td>1</td>\n",
       "      <td>0</td>\n",
       "      <td>1</td>\n",
       "      <td>1</td>\n",
       "    </tr>\n",
       "    <tr>\n",
       "      <th>4</th>\n",
       "      <td>3</td>\n",
       "      <td>0</td>\n",
       "      <td>0</td>\n",
       "      <td>0</td>\n",
       "    </tr>\n",
       "  </tbody>\n",
       "</table>\n",
       "</div>"
      ],
      "text/plain": [
       "   Pclass  Parch  Sex Encoded  Survived\n",
       "0       3      0            0         0\n",
       "1       1      0            1         1\n",
       "2       3      0            1         1\n",
       "3       1      0            1         1\n",
       "4       3      0            0         0"
      ]
     },
     "execution_count": 221,
     "metadata": {},
     "output_type": "execute_result"
    }
   ],
   "source": [
    "features.head()"
   ]
  },
  {
   "cell_type": "code",
   "execution_count": 222,
   "metadata": {
    "execution": {
     "iopub.execute_input": "2021-06-12T08:10:56.821137Z",
     "iopub.status.busy": "2021-06-12T08:10:56.820013Z",
     "iopub.status.idle": "2021-06-12T08:10:57.025314Z",
     "shell.execute_reply": "2021-06-12T08:10:57.025851Z",
     "shell.execute_reply.started": "2021-06-12T07:44:06.548189Z"
    },
    "papermill": {
     "duration": 0.253512,
     "end_time": "2021-06-12T08:10:57.026037",
     "exception": false,
     "start_time": "2021-06-12T08:10:56.772525",
     "status": "completed"
    },
    "tags": []
   },
   "outputs": [],
   "source": [
    "from sklearn.model_selection import train_test_split"
   ]
  },
  {
   "cell_type": "code",
   "execution_count": 223,
   "metadata": {
    "execution": {
     "iopub.execute_input": "2021-06-12T08:10:57.114694Z",
     "iopub.status.busy": "2021-06-12T08:10:57.113732Z",
     "iopub.status.idle": "2021-06-12T08:10:57.119253Z",
     "shell.execute_reply": "2021-06-12T08:10:57.119822Z",
     "shell.execute_reply.started": "2021-06-12T07:44:06.761473Z"
    },
    "papermill": {
     "duration": 0.051593,
     "end_time": "2021-06-12T08:10:57.119992",
     "exception": false,
     "start_time": "2021-06-12T08:10:57.068399",
     "status": "completed"
    },
    "tags": []
   },
   "outputs": [],
   "source": [
    "X = features.drop(\"Survived\", axis=1)\n",
    "y = features[\"Survived\"]"
   ]
  },
  {
   "cell_type": "code",
   "execution_count": 224,
   "metadata": {
    "execution": {
     "iopub.execute_input": "2021-06-12T08:10:57.208303Z",
     "iopub.status.busy": "2021-06-12T08:10:57.207306Z",
     "iopub.status.idle": "2021-06-12T08:10:57.213507Z",
     "shell.execute_reply": "2021-06-12T08:10:57.214012Z",
     "shell.execute_reply.started": "2021-06-12T07:44:06.771713Z"
    },
    "papermill": {
     "duration": 0.052065,
     "end_time": "2021-06-12T08:10:57.214177",
     "exception": false,
     "start_time": "2021-06-12T08:10:57.162112",
     "status": "completed"
    },
    "tags": []
   },
   "outputs": [],
   "source": [
    "X_train, X_test, y_train, y_test = train_test_split(X, y, test_size=0.10, random_state=42)"
   ]
  },
  {
   "cell_type": "code",
   "execution_count": 225,
   "metadata": {
    "execution": {
     "iopub.execute_input": "2021-06-12T08:10:57.302367Z",
     "iopub.status.busy": "2021-06-12T08:10:57.301377Z",
     "iopub.status.idle": "2021-06-12T08:10:57.305058Z",
     "shell.execute_reply": "2021-06-12T08:10:57.305505Z",
     "shell.execute_reply.started": "2021-06-12T07:44:06.784868Z"
    },
    "papermill": {
     "duration": 0.049285,
     "end_time": "2021-06-12T08:10:57.305692",
     "exception": false,
     "start_time": "2021-06-12T08:10:57.256407",
     "status": "completed"
    },
    "tags": []
   },
   "outputs": [],
   "source": [
    "from sklearn.preprocessing import StandardScaler"
   ]
  },
  {
   "cell_type": "code",
   "execution_count": 226,
   "metadata": {
    "execution": {
     "iopub.execute_input": "2021-06-12T08:10:57.395378Z",
     "iopub.status.busy": "2021-06-12T08:10:57.394476Z",
     "iopub.status.idle": "2021-06-12T08:10:57.397674Z",
     "shell.execute_reply": "2021-06-12T08:10:57.398140Z",
     "shell.execute_reply.started": "2021-06-12T07:44:06.803202Z"
    },
    "papermill": {
     "duration": 0.049268,
     "end_time": "2021-06-12T08:10:57.398301",
     "exception": false,
     "start_time": "2021-06-12T08:10:57.349033",
     "status": "completed"
    },
    "tags": []
   },
   "outputs": [],
   "source": [
    "# scaler = StandardScaler()\n",
    "# scaled_X_train = scaler.fit_transform(X_train)\n",
    "# scaled_X_test = scaler.transform(X_test)"
   ]
  },
  {
   "cell_type": "code",
   "execution_count": 227,
   "metadata": {
    "execution": {
     "iopub.execute_input": "2021-06-12T08:10:57.486758Z",
     "iopub.status.busy": "2021-06-12T08:10:57.486141Z",
     "iopub.status.idle": "2021-06-12T08:10:57.590201Z",
     "shell.execute_reply": "2021-06-12T08:10:57.590748Z",
     "shell.execute_reply.started": "2021-06-12T07:44:06.819704Z"
    },
    "papermill": {
     "duration": 0.149911,
     "end_time": "2021-06-12T08:10:57.590922",
     "exception": false,
     "start_time": "2021-06-12T08:10:57.441011",
     "status": "completed"
    },
    "tags": []
   },
   "outputs": [],
   "source": [
    "from sklearn.linear_model import LogisticRegressionCV"
   ]
  },
  {
   "cell_type": "code",
   "execution_count": 228,
   "metadata": {
    "execution": {
     "iopub.execute_input": "2021-06-12T08:10:57.678957Z",
     "iopub.status.busy": "2021-06-12T08:10:57.678299Z",
     "iopub.status.idle": "2021-06-12T08:10:57.682603Z",
     "shell.execute_reply": "2021-06-12T08:10:57.682027Z",
     "shell.execute_reply.started": "2021-06-12T07:44:06.934286Z"
    },
    "papermill": {
     "duration": 0.049561,
     "end_time": "2021-06-12T08:10:57.682742",
     "exception": false,
     "start_time": "2021-06-12T08:10:57.633181",
     "status": "completed"
    },
    "tags": []
   },
   "outputs": [],
   "source": [
    "log_cv_model = LogisticRegressionCV(Cs=[0.01, 0.1, 1, 10, 100],\n",
    "                                    cv=5)"
   ]
  },
  {
   "cell_type": "code",
   "execution_count": 229,
   "metadata": {
    "_kg_hide-input": false,
    "_kg_hide-output": true,
    "execution": {
     "iopub.execute_input": "2021-06-12T08:10:57.775333Z",
     "iopub.status.busy": "2021-06-12T08:10:57.774703Z",
     "iopub.status.idle": "2021-06-12T08:10:57.885943Z",
     "shell.execute_reply": "2021-06-12T08:10:57.885401Z",
     "shell.execute_reply.started": "2021-06-12T07:44:06.940011Z"
    },
    "papermill": {
     "duration": 0.160853,
     "end_time": "2021-06-12T08:10:57.886137",
     "exception": false,
     "start_time": "2021-06-12T08:10:57.725284",
     "status": "completed"
    },
    "tags": []
   },
   "outputs": [
    {
     "data": {
      "text/plain": [
       "LogisticRegressionCV(Cs=[0.01, 0.1, 1, 10, 100], cv=5)"
      ]
     },
     "execution_count": 229,
     "metadata": {},
     "output_type": "execute_result"
    }
   ],
   "source": [
    "log_cv_model.fit(X_train, y_train)"
   ]
  },
  {
   "cell_type": "code",
   "execution_count": 230,
   "metadata": {
    "execution": {
     "iopub.execute_input": "2021-06-12T08:10:57.977809Z",
     "iopub.status.busy": "2021-06-12T08:10:57.977183Z",
     "iopub.status.idle": "2021-06-12T08:10:57.981020Z",
     "shell.execute_reply": "2021-06-12T08:10:57.980381Z",
     "shell.execute_reply.started": "2021-06-12T07:44:07.056038Z"
    },
    "papermill": {
     "duration": 0.051979,
     "end_time": "2021-06-12T08:10:57.981171",
     "exception": false,
     "start_time": "2021-06-12T08:10:57.929192",
     "status": "completed"
    },
    "tags": []
   },
   "outputs": [
    {
     "data": {
      "text/plain": [
       "(array([[-0.91330166, -0.12902594,  2.57015651]]), array([1.]))"
      ]
     },
     "execution_count": 230,
     "metadata": {},
     "output_type": "execute_result"
    }
   ],
   "source": [
    "log_cv_model.coef_, log_cv_model.C_"
   ]
  },
  {
   "cell_type": "code",
   "execution_count": 231,
   "metadata": {
    "execution": {
     "iopub.execute_input": "2021-06-12T08:10:58.071547Z",
     "iopub.status.busy": "2021-06-12T08:10:58.070901Z",
     "iopub.status.idle": "2021-06-12T08:10:58.079957Z",
     "shell.execute_reply": "2021-06-12T08:10:58.079425Z",
     "shell.execute_reply.started": "2021-06-12T07:44:07.063832Z"
    },
    "papermill": {
     "duration": 0.055077,
     "end_time": "2021-06-12T08:10:58.080152",
     "exception": false,
     "start_time": "2021-06-12T08:10:58.025075",
     "status": "completed"
    },
    "tags": []
   },
   "outputs": [],
   "source": [
    "y_pred = log_cv_model.predict(X_test)\n",
    "y_pred_prob = log_cv_model.predict_proba(X_test)"
   ]
  },
  {
   "cell_type": "code",
   "execution_count": 232,
   "metadata": {
    "execution": {
     "iopub.execute_input": "2021-06-12T08:10:58.171939Z",
     "iopub.status.busy": "2021-06-12T08:10:58.171278Z",
     "iopub.status.idle": "2021-06-12T08:10:58.177932Z",
     "shell.execute_reply": "2021-06-12T08:10:58.176927Z",
     "shell.execute_reply.started": "2021-06-12T07:44:07.080914Z"
    },
    "papermill": {
     "duration": 0.054482,
     "end_time": "2021-06-12T08:10:58.178135",
     "exception": false,
     "start_time": "2021-06-12T08:10:58.123653",
     "status": "completed"
    },
    "tags": []
   },
   "outputs": [
    {
     "name": "stdout",
     "output_type": "stream",
     "text": [
      "For some sample entry,\n",
      "Model Prediction:  0\n",
      "Likelihood of Prediction [0.90150576 0.09849424]\n"
     ]
    }
   ],
   "source": [
    "print(\"For some sample entry,\")\n",
    "print(\"Model Prediction: \", y_pred[0])\n",
    "print(\"Likelihood of Prediction\", y_pred_prob[0])"
   ]
  },
  {
   "cell_type": "markdown",
   "metadata": {
    "papermill": {
     "duration": 0.043119,
     "end_time": "2021-06-12T08:10:58.265430",
     "exception": false,
     "start_time": "2021-06-12T08:10:58.222311",
     "status": "completed"
    },
    "tags": []
   },
   "source": [
    "# Evaluation Metrics Analysis for our LogisticCV Classification Model\n",
    "* Using accuracy score to use as a base metric for later analysis\n",
    "* Using confusion matrix visuals to show the True Positives, True Negatives, Type I Errors, and Type II Errors\n",
    "* Using Precision and Recall to validate our accuracy score\n",
    "    1. **Precision**: Reveals model metric for correctly identifying actual positives and negatives, given the model predicted positive. ($\\frac{\\text{TP}}{\\text{TP} + \\text{FP}}$)\n",
    "    2. **Recall**: Reveals model metric for correctly identifying actual positives. ($\\frac{\\text{TP}}{\\text{TP} + \\text{FN}}$)\n",
    "* NOTES: \n",
    "    * FP = False Positive = Type I Error\n",
    "    * FN = False Negative = Type II Error"
   ]
  },
  {
   "cell_type": "code",
   "execution_count": 233,
   "metadata": {
    "execution": {
     "iopub.execute_input": "2021-06-12T08:10:58.357942Z",
     "iopub.status.busy": "2021-06-12T08:10:58.357313Z",
     "iopub.status.idle": "2021-06-12T08:10:58.360177Z",
     "shell.execute_reply": "2021-06-12T08:10:58.359669Z",
     "shell.execute_reply.started": "2021-06-12T07:44:07.093538Z"
    },
    "papermill": {
     "duration": 0.051368,
     "end_time": "2021-06-12T08:10:58.360308",
     "exception": false,
     "start_time": "2021-06-12T08:10:58.308940",
     "status": "completed"
    },
    "tags": []
   },
   "outputs": [],
   "source": [
    "from sklearn.metrics import accuracy_score, confusion_matrix, classification_report"
   ]
  },
  {
   "cell_type": "code",
   "execution_count": 234,
   "metadata": {
    "execution": {
     "iopub.execute_input": "2021-06-12T08:10:58.454069Z",
     "iopub.status.busy": "2021-06-12T08:10:58.453219Z",
     "iopub.status.idle": "2021-06-12T08:10:58.456733Z",
     "shell.execute_reply": "2021-06-12T08:10:58.457202Z",
     "shell.execute_reply.started": "2021-06-12T07:44:07.106421Z"
    },
    "papermill": {
     "duration": 0.052903,
     "end_time": "2021-06-12T08:10:58.457368",
     "exception": false,
     "start_time": "2021-06-12T08:10:58.404465",
     "status": "completed"
    },
    "tags": []
   },
   "outputs": [
    {
     "data": {
      "text/plain": [
       "(array([1, 0, 0, 1, 1]), array([0, 0, 0, 1, 1]))"
      ]
     },
     "execution_count": 234,
     "metadata": {},
     "output_type": "execute_result"
    }
   ],
   "source": [
    "y_test.head().values, y_pred[0:5]"
   ]
  },
  {
   "cell_type": "code",
   "execution_count": 235,
   "metadata": {
    "execution": {
     "iopub.execute_input": "2021-06-12T08:10:58.551420Z",
     "iopub.status.busy": "2021-06-12T08:10:58.550427Z",
     "iopub.status.idle": "2021-06-12T08:10:58.554843Z",
     "shell.execute_reply": "2021-06-12T08:10:58.554237Z",
     "shell.execute_reply.started": "2021-06-12T07:44:07.122831Z"
    },
    "papermill": {
     "duration": 0.053684,
     "end_time": "2021-06-12T08:10:58.554981",
     "exception": false,
     "start_time": "2021-06-12T08:10:58.501297",
     "status": "completed"
    },
    "tags": []
   },
   "outputs": [
    {
     "data": {
      "text/plain": [
       "0.8111111111111111"
      ]
     },
     "execution_count": 235,
     "metadata": {},
     "output_type": "execute_result"
    }
   ],
   "source": [
    "accuracy_score(y_test, y_pred)"
   ]
  },
  {
   "cell_type": "code",
   "execution_count": 236,
   "metadata": {
    "execution": {
     "iopub.execute_input": "2021-06-12T08:10:58.646700Z",
     "iopub.status.busy": "2021-06-12T08:10:58.645738Z",
     "iopub.status.idle": "2021-06-12T08:10:58.652596Z",
     "shell.execute_reply": "2021-06-12T08:10:58.652075Z",
     "shell.execute_reply.started": "2021-06-12T07:44:07.139119Z"
    },
    "papermill": {
     "duration": 0.053583,
     "end_time": "2021-06-12T08:10:58.652736",
     "exception": false,
     "start_time": "2021-06-12T08:10:58.599153",
     "status": "completed"
    },
    "tags": []
   },
   "outputs": [
    {
     "data": {
      "text/plain": [
       "array([[45,  9],\n",
       "       [ 8, 28]])"
      ]
     },
     "execution_count": 236,
     "metadata": {},
     "output_type": "execute_result"
    }
   ],
   "source": [
    "confusion_matrix(y_test, y_pred)"
   ]
  },
  {
   "cell_type": "code",
   "execution_count": 237,
   "metadata": {
    "execution": {
     "iopub.execute_input": "2021-06-12T08:10:58.745418Z",
     "iopub.status.busy": "2021-06-12T08:10:58.744774Z",
     "iopub.status.idle": "2021-06-12T08:10:58.749054Z",
     "shell.execute_reply": "2021-06-12T08:10:58.748489Z",
     "shell.execute_reply.started": "2021-06-12T07:44:07.154324Z"
    },
    "papermill": {
     "duration": 0.051703,
     "end_time": "2021-06-12T08:10:58.749195",
     "exception": false,
     "start_time": "2021-06-12T08:10:58.697492",
     "status": "completed"
    },
    "tags": []
   },
   "outputs": [],
   "source": [
    "from sklearn.metrics import plot_confusion_matrix"
   ]
  },
  {
   "cell_type": "code",
   "execution_count": 238,
   "metadata": {
    "execution": {
     "iopub.execute_input": "2021-06-12T08:10:58.859312Z",
     "iopub.status.busy": "2021-06-12T08:10:58.858664Z",
     "iopub.status.idle": "2021-06-12T08:10:59.208759Z",
     "shell.execute_reply": "2021-06-12T08:10:59.208236Z",
     "shell.execute_reply.started": "2021-06-12T07:44:07.165614Z"
    },
    "papermill": {
     "duration": 0.414412,
     "end_time": "2021-06-12T08:10:59.208904",
     "exception": false,
     "start_time": "2021-06-12T08:10:58.794492",
     "status": "completed"
    },
    "tags": []
   },
   "outputs": [
    {
     "data": {
      "image/png": "[encoded data removed]",
      "text/plain": [
       "<Figure size 1200x800 with 2 Axes>"
      ]
     },
     "metadata": {
      "needs_background": "light"
     },
     "output_type": "display_data"
    }
   ],
   "source": [
    "fig, ax = plt.subplots(dpi=200)\n",
    "plot_confusion_matrix(log_cv_model, X_test, y_test, ax=ax)\n",
    "plt.show();"
   ]
  },
  {
   "cell_type": "code",
   "execution_count": 239,
   "metadata": {
    "execution": {
     "iopub.execute_input": "2021-06-12T08:10:59.305300Z",
     "iopub.status.busy": "2021-06-12T08:10:59.304501Z",
     "iopub.status.idle": "2021-06-12T08:10:59.306647Z",
     "shell.execute_reply": "2021-06-12T08:10:59.307123Z",
     "shell.execute_reply.started": "2021-06-12T07:44:07.532965Z"
    },
    "papermill": {
     "duration": 0.052872,
     "end_time": "2021-06-12T08:10:59.307292",
     "exception": false,
     "start_time": "2021-06-12T08:10:59.254420",
     "status": "completed"
    },
    "tags": []
   },
   "outputs": [],
   "source": [
    "from sklearn.metrics import precision_score, recall_score"
   ]
  },
  {
   "cell_type": "code",
   "execution_count": 240,
   "metadata": {
    "execution": {
     "iopub.execute_input": "2021-06-12T08:10:59.402393Z",
     "iopub.status.busy": "2021-06-12T08:10:59.401728Z",
     "iopub.status.idle": "2021-06-12T08:10:59.409457Z",
     "shell.execute_reply": "2021-06-12T08:10:59.410071Z",
     "shell.execute_reply.started": "2021-06-12T07:44:07.537563Z"
    },
    "papermill": {
     "duration": 0.056901,
     "end_time": "2021-06-12T08:10:59.410275",
     "exception": false,
     "start_time": "2021-06-12T08:10:59.353374",
     "status": "completed"
    },
    "tags": []
   },
   "outputs": [
    {
     "data": {
      "text/plain": [
       "(0.7567567567567568, 0.7777777777777778)"
      ]
     },
     "execution_count": 240,
     "metadata": {},
     "output_type": "execute_result"
    }
   ],
   "source": [
    "prec, rec = precision_score(y_test, y_pred), recall_score(y_test, y_pred)\n",
    "prec, rec"
   ]
  },
  {
   "cell_type": "markdown",
   "metadata": {
    "papermill": {
     "duration": 0.045992,
     "end_time": "2021-06-12T08:10:59.502064",
     "exception": false,
     "start_time": "2021-06-12T08:10:59.456072",
     "status": "completed"
    },
    "tags": []
   },
   "source": [
    "# Final Model Creation and Test\n",
    "* We will now fit our entire training Data Set to a final LogisticRegressionCV model.\n",
    "* We will import the test Data and perform one final hold one out 5-fold cross validation procedure."
   ]
  },
  {
   "cell_type": "code",
   "execution_count": 241,
   "metadata": {
    "execution": {
     "iopub.execute_input": "2021-06-12T08:10:59.597383Z",
     "iopub.status.busy": "2021-06-12T08:10:59.596770Z",
     "iopub.status.idle": "2021-06-12T08:10:59.610496Z",
     "shell.execute_reply": "2021-06-12T08:10:59.611064Z",
     "shell.execute_reply.started": "2021-06-12T07:44:07.55794Z"
    },
    "papermill": {
     "duration": 0.062822,
     "end_time": "2021-06-12T08:10:59.611246",
     "exception": false,
     "start_time": "2021-06-12T08:10:59.548424",
     "status": "completed"
    },
    "tags": []
   },
   "outputs": [
    {
     "data": {
      "text/html": [
       "<div>\n",
       "<style scoped>\n",
       "    .dataframe tbody tr th:only-of-type {\n",
       "        vertical-align: middle;\n",
       "    }\n",
       "\n",
       "    .dataframe tbody tr th {\n",
       "        vertical-align: top;\n",
       "    }\n",
       "\n",
       "    .dataframe thead th {\n",
       "        text-align: right;\n",
       "    }\n",
       "</style>\n",
       "<table border=\"1\" class=\"dataframe\">\n",
       "  <thead>\n",
       "    <tr style=\"text-align: right;\">\n",
       "      <th></th>\n",
       "      <th>Pclass</th>\n",
       "      <th>Sex Encoded</th>\n",
       "      <th>Parch</th>\n",
       "      <th>Survived</th>\n",
       "    </tr>\n",
       "  </thead>\n",
       "  <tbody>\n",
       "    <tr>\n",
       "      <th>0</th>\n",
       "      <td>3</td>\n",
       "      <td>0</td>\n",
       "      <td>0</td>\n",
       "      <td>0</td>\n",
       "    </tr>\n",
       "    <tr>\n",
       "      <th>1</th>\n",
       "      <td>1</td>\n",
       "      <td>1</td>\n",
       "      <td>0</td>\n",
       "      <td>1</td>\n",
       "    </tr>\n",
       "    <tr>\n",
       "      <th>2</th>\n",
       "      <td>3</td>\n",
       "      <td>1</td>\n",
       "      <td>0</td>\n",
       "      <td>1</td>\n",
       "    </tr>\n",
       "    <tr>\n",
       "      <th>3</th>\n",
       "      <td>1</td>\n",
       "      <td>1</td>\n",
       "      <td>0</td>\n",
       "      <td>1</td>\n",
       "    </tr>\n",
       "    <tr>\n",
       "      <th>4</th>\n",
       "      <td>3</td>\n",
       "      <td>0</td>\n",
       "      <td>0</td>\n",
       "      <td>0</td>\n",
       "    </tr>\n",
       "    <tr>\n",
       "      <th>...</th>\n",
       "      <td>...</td>\n",
       "      <td>...</td>\n",
       "      <td>...</td>\n",
       "      <td>...</td>\n",
       "    </tr>\n",
       "    <tr>\n",
       "      <th>886</th>\n",
       "      <td>2</td>\n",
       "      <td>0</td>\n",
       "      <td>0</td>\n",
       "      <td>0</td>\n",
       "    </tr>\n",
       "    <tr>\n",
       "      <th>887</th>\n",
       "      <td>1</td>\n",
       "      <td>1</td>\n",
       "      <td>0</td>\n",
       "      <td>1</td>\n",
       "    </tr>\n",
       "    <tr>\n",
       "      <th>888</th>\n",
       "      <td>3</td>\n",
       "      <td>1</td>\n",
       "      <td>2</td>\n",
       "      <td>0</td>\n",
       "    </tr>\n",
       "    <tr>\n",
       "      <th>889</th>\n",
       "      <td>1</td>\n",
       "      <td>0</td>\n",
       "      <td>0</td>\n",
       "      <td>1</td>\n",
       "    </tr>\n",
       "    <tr>\n",
       "      <th>890</th>\n",
       "      <td>3</td>\n",
       "      <td>0</td>\n",
       "      <td>0</td>\n",
       "      <td>0</td>\n",
       "    </tr>\n",
       "  </tbody>\n",
       "</table>\n",
       "<p>891 rows × 4 columns</p>\n",
       "</div>"
      ],
      "text/plain": [
       "     Pclass  Sex Encoded  Parch  Survived\n",
       "0         3            0      0         0\n",
       "1         1            1      0         1\n",
       "2         3            1      0         1\n",
       "3         1            1      0         1\n",
       "4         3            0      0         0\n",
       "..      ...          ...    ...       ...\n",
       "886       2            0      0         0\n",
       "887       1            1      0         1\n",
       "888       3            1      2         0\n",
       "889       1            0      0         1\n",
       "890       3            0      0         0\n",
       "\n",
       "[891 rows x 4 columns]"
      ]
     },
     "execution_count": 241,
     "metadata": {},
     "output_type": "execute_result"
    }
   ],
   "source": [
    "# Create features df \n",
    "\n",
    "features = df[[\"Pclass\", \"Sex Encoded\", \"Parch\", \"Survived\"]]\n",
    "features"
   ]
  },
  {
   "cell_type": "code",
   "execution_count": 242,
   "metadata": {
    "execution": {
     "iopub.execute_input": "2021-06-12T08:10:59.708729Z",
     "iopub.status.busy": "2021-06-12T08:10:59.708045Z",
     "iopub.status.idle": "2021-06-12T08:10:59.712815Z",
     "shell.execute_reply": "2021-06-12T08:10:59.713388Z",
     "shell.execute_reply.started": "2021-06-12T07:44:07.57904Z"
    },
    "papermill": {
     "duration": 0.055331,
     "end_time": "2021-06-12T08:10:59.713590",
     "exception": false,
     "start_time": "2021-06-12T08:10:59.658259",
     "status": "completed"
    },
    "tags": []
   },
   "outputs": [],
   "source": [
    "# Create X and y same as before\n",
    "\n",
    "X = features.drop(\"Survived\", axis=1)\n",
    "y = features[\"Survived\"]"
   ]
  },
  {
   "cell_type": "code",
   "execution_count": 243,
   "metadata": {
    "execution": {
     "iopub.execute_input": "2021-06-12T08:10:59.810204Z",
     "iopub.status.busy": "2021-06-12T08:10:59.809461Z",
     "iopub.status.idle": "2021-06-12T08:10:59.813616Z",
     "shell.execute_reply": "2021-06-12T08:10:59.814169Z",
     "shell.execute_reply.started": "2021-06-12T07:44:07.593489Z"
    },
    "papermill": {
     "duration": 0.053598,
     "end_time": "2021-06-12T08:10:59.814338",
     "exception": false,
     "start_time": "2021-06-12T08:10:59.760740",
     "status": "completed"
    },
    "tags": []
   },
   "outputs": [],
   "source": [
    "# Fit our CV Model with the most optimal performing C-value and default 5-fold Cross Validation\n",
    "\n",
    "final_log_cv_model = LogisticRegressionCV(cv=5)"
   ]
  },
  {
   "cell_type": "code",
   "execution_count": 244,
   "metadata": {
    "execution": {
     "iopub.execute_input": "2021-06-12T08:10:59.910869Z",
     "iopub.status.busy": "2021-06-12T08:10:59.910212Z",
     "iopub.status.idle": "2021-06-12T08:10:59.944037Z",
     "shell.execute_reply": "2021-06-12T08:10:59.944632Z",
     "shell.execute_reply.started": "2021-06-12T07:44:07.605706Z"
    },
    "papermill": {
     "duration": 0.083559,
     "end_time": "2021-06-12T08:10:59.944803",
     "exception": false,
     "start_time": "2021-06-12T08:10:59.861244",
     "status": "completed"
    },
    "tags": []
   },
   "outputs": [
    {
     "data": {
      "text/plain": [
       "LogisticRegressionCV(cv=5)"
      ]
     },
     "execution_count": 244,
     "metadata": {},
     "output_type": "execute_result"
    }
   ],
   "source": [
    "# Fit our ENTIRE TEST DATA SET to the final model, no need for train_test_split.\n",
    "final_log_cv_model.fit(X, y)"
   ]
  },
  {
   "cell_type": "code",
   "execution_count": 245,
   "metadata": {
    "execution": {
     "iopub.execute_input": "2021-06-12T08:11:00.041800Z",
     "iopub.status.busy": "2021-06-12T08:11:00.041193Z",
     "iopub.status.idle": "2021-06-12T08:11:00.082294Z",
     "shell.execute_reply": "2021-06-12T08:11:00.081763Z",
     "shell.execute_reply.started": "2021-06-12T07:44:07.654377Z"
    },
    "papermill": {
     "duration": 0.090709,
     "end_time": "2021-06-12T08:11:00.082440",
     "exception": false,
     "start_time": "2021-06-12T08:10:59.991731",
     "status": "completed"
    },
    "tags": []
   },
   "outputs": [
    {
     "data": {
      "text/html": [
       "<div>\n",
       "<style scoped>\n",
       "    .dataframe tbody tr th:only-of-type {\n",
       "        vertical-align: middle;\n",
       "    }\n",
       "\n",
       "    .dataframe tbody tr th {\n",
       "        vertical-align: top;\n",
       "    }\n",
       "\n",
       "    .dataframe thead th {\n",
       "        text-align: right;\n",
       "    }\n",
       "</style>\n",
       "<table border=\"1\" class=\"dataframe\">\n",
       "  <thead>\n",
       "    <tr style=\"text-align: right;\">\n",
       "      <th></th>\n",
       "      <th>PassengerId</th>\n",
       "      <th>Pclass</th>\n",
       "      <th>Name</th>\n",
       "      <th>Sex</th>\n",
       "      <th>Age</th>\n",
       "      <th>SibSp</th>\n",
       "      <th>Parch</th>\n",
       "      <th>Ticket</th>\n",
       "      <th>Fare</th>\n",
       "      <th>Cabin</th>\n",
       "      <th>Embarked</th>\n",
       "    </tr>\n",
       "  </thead>\n",
       "  <tbody>\n",
       "    <tr>\n",
       "      <th>0</th>\n",
       "      <td>892</td>\n",
       "      <td>3</td>\n",
       "      <td>Kelly, Mr. James</td>\n",
       "      <td>male</td>\n",
       "      <td>34.5</td>\n",
       "      <td>0</td>\n",
       "      <td>0</td>\n",
       "      <td>330911</td>\n",
       "      <td>7.8292</td>\n",
       "      <td>NaN</td>\n",
       "      <td>Q</td>\n",
       "    </tr>\n",
       "    <tr>\n",
       "      <th>1</th>\n",
       "      <td>893</td>\n",
       "      <td>3</td>\n",
       "      <td>Wilkes, Mrs. James (Ellen Needs)</td>\n",
       "      <td>female</td>\n",
       "      <td>47.0</td>\n",
       "      <td>1</td>\n",
       "      <td>0</td>\n",
       "      <td>363272</td>\n",
       "      <td>7.0000</td>\n",
       "      <td>NaN</td>\n",
       "      <td>S</td>\n",
       "    </tr>\n",
       "    <tr>\n",
       "      <th>2</th>\n",
       "      <td>894</td>\n",
       "      <td>2</td>\n",
       "      <td>Myles, Mr. Thomas Francis</td>\n",
       "      <td>male</td>\n",
       "      <td>62.0</td>\n",
       "      <td>0</td>\n",
       "      <td>0</td>\n",
       "      <td>240276</td>\n",
       "      <td>9.6875</td>\n",
       "      <td>NaN</td>\n",
       "      <td>Q</td>\n",
       "    </tr>\n",
       "    <tr>\n",
       "      <th>3</th>\n",
       "      <td>895</td>\n",
       "      <td>3</td>\n",
       "      <td>Wirz, Mr. Albert</td>\n",
       "      <td>male</td>\n",
       "      <td>27.0</td>\n",
       "      <td>0</td>\n",
       "      <td>0</td>\n",
       "      <td>315154</td>\n",
       "      <td>8.6625</td>\n",
       "      <td>NaN</td>\n",
       "      <td>S</td>\n",
       "    </tr>\n",
       "    <tr>\n",
       "      <th>4</th>\n",
       "      <td>896</td>\n",
       "      <td>3</td>\n",
       "      <td>Hirvonen, Mrs. Alexander (Helga E Lindqvist)</td>\n",
       "      <td>female</td>\n",
       "      <td>22.0</td>\n",
       "      <td>1</td>\n",
       "      <td>1</td>\n",
       "      <td>3101298</td>\n",
       "      <td>12.2875</td>\n",
       "      <td>NaN</td>\n",
       "      <td>S</td>\n",
       "    </tr>\n",
       "    <tr>\n",
       "      <th>...</th>\n",
       "      <td>...</td>\n",
       "      <td>...</td>\n",
       "      <td>...</td>\n",
       "      <td>...</td>\n",
       "      <td>...</td>\n",
       "      <td>...</td>\n",
       "      <td>...</td>\n",
       "      <td>...</td>\n",
       "      <td>...</td>\n",
       "      <td>...</td>\n",
       "      <td>...</td>\n",
       "    </tr>\n",
       "    <tr>\n",
       "      <th>413</th>\n",
       "      <td>1305</td>\n",
       "      <td>3</td>\n",
       "      <td>Spector, Mr. Woolf</td>\n",
       "      <td>male</td>\n",
       "      <td>NaN</td>\n",
       "      <td>0</td>\n",
       "      <td>0</td>\n",
       "      <td>A.5. 3236</td>\n",
       "      <td>8.0500</td>\n",
       "      <td>NaN</td>\n",
       "      <td>S</td>\n",
       "    </tr>\n",
       "    <tr>\n",
       "      <th>414</th>\n",
       "      <td>1306</td>\n",
       "      <td>1</td>\n",
       "      <td>Oliva y Ocana, Dona. Fermina</td>\n",
       "      <td>female</td>\n",
       "      <td>39.0</td>\n",
       "      <td>0</td>\n",
       "      <td>0</td>\n",
       "      <td>PC 17758</td>\n",
       "      <td>108.9000</td>\n",
       "      <td>C105</td>\n",
       "      <td>C</td>\n",
       "    </tr>\n",
       "    <tr>\n",
       "      <th>415</th>\n",
       "      <td>1307</td>\n",
       "      <td>3</td>\n",
       "      <td>Saether, Mr. Simon Sivertsen</td>\n",
       "      <td>male</td>\n",
       "      <td>38.5</td>\n",
       "      <td>0</td>\n",
       "      <td>0</td>\n",
       "      <td>SOTON/O.Q. 3101262</td>\n",
       "      <td>7.2500</td>\n",
       "      <td>NaN</td>\n",
       "      <td>S</td>\n",
       "    </tr>\n",
       "    <tr>\n",
       "      <th>416</th>\n",
       "      <td>1308</td>\n",
       "      <td>3</td>\n",
       "      <td>Ware, Mr. Frederick</td>\n",
       "      <td>male</td>\n",
       "      <td>NaN</td>\n",
       "      <td>0</td>\n",
       "      <td>0</td>\n",
       "      <td>359309</td>\n",
       "      <td>8.0500</td>\n",
       "      <td>NaN</td>\n",
       "      <td>S</td>\n",
       "    </tr>\n",
       "    <tr>\n",
       "      <th>417</th>\n",
       "      <td>1309</td>\n",
       "      <td>3</td>\n",
       "      <td>Peter, Master. Michael J</td>\n",
       "      <td>male</td>\n",
       "      <td>NaN</td>\n",
       "      <td>1</td>\n",
       "      <td>1</td>\n",
       "      <td>2668</td>\n",
       "      <td>22.3583</td>\n",
       "      <td>NaN</td>\n",
       "      <td>C</td>\n",
       "    </tr>\n",
       "  </tbody>\n",
       "</table>\n",
       "<p>418 rows × 11 columns</p>\n",
       "</div>"
      ],
      "text/plain": [
       "     PassengerId  Pclass                                          Name  \\\n",
       "0            892       3                              Kelly, Mr. James   \n",
       "1            893       3              Wilkes, Mrs. James (Ellen Needs)   \n",
       "2            894       2                     Myles, Mr. Thomas Francis   \n",
       "3            895       3                              Wirz, Mr. Albert   \n",
       "4            896       3  Hirvonen, Mrs. Alexander (Helga E Lindqvist)   \n",
       "..           ...     ...                                           ...   \n",
       "413         1305       3                            Spector, Mr. Woolf   \n",
       "414         1306       1                  Oliva y Ocana, Dona. Fermina   \n",
       "415         1307       3                  Saether, Mr. Simon Sivertsen   \n",
       "416         1308       3                           Ware, Mr. Frederick   \n",
       "417         1309       3                      Peter, Master. Michael J   \n",
       "\n",
       "        Sex   Age  SibSp  Parch              Ticket      Fare Cabin Embarked  \n",
       "0      male  34.5      0      0              330911    7.8292   NaN        Q  \n",
       "1    female  47.0      1      0              363272    7.0000   NaN        S  \n",
       "2      male  62.0      0      0              240276    9.6875   NaN        Q  \n",
       "3      male  27.0      0      0              315154    8.6625   NaN        S  \n",
       "4    female  22.0      1      1             3101298   12.2875   NaN        S  \n",
       "..      ...   ...    ...    ...                 ...       ...   ...      ...  \n",
       "413    male   NaN      0      0           A.5. 3236    8.0500   NaN        S  \n",
       "414  female  39.0      0      0            PC 17758  108.9000  C105        C  \n",
       "415    male  38.5      0      0  SOTON/O.Q. 3101262    7.2500   NaN        S  \n",
       "416    male   NaN      0      0              359309    8.0500   NaN        S  \n",
       "417    male   NaN      1      1                2668   22.3583   NaN        C  \n",
       "\n",
       "[418 rows x 11 columns]"
      ]
     },
     "execution_count": 245,
     "metadata": {},
     "output_type": "execute_result"
    }
   ],
   "source": [
    "test = pd.read_csv(\"DATA/test.csv\")\n",
    "test"
   ]
  },
  {
   "cell_type": "code",
   "execution_count": 246,
   "metadata": {
    "execution": {
     "iopub.execute_input": "2021-06-12T08:11:00.193653Z",
     "iopub.status.busy": "2021-06-12T08:11:00.192979Z",
     "iopub.status.idle": "2021-06-12T08:11:00.196135Z",
     "shell.execute_reply": "2021-06-12T08:11:00.196703Z",
     "shell.execute_reply.started": "2021-06-12T07:44:07.69732Z"
    },
    "papermill": {
     "duration": 0.066746,
     "end_time": "2021-06-12T08:11:00.196867",
     "exception": false,
     "start_time": "2021-06-12T08:11:00.130121",
     "status": "completed"
    },
    "tags": []
   },
   "outputs": [
    {
     "data": {
      "text/html": [
       "<div>\n",
       "<style scoped>\n",
       "    .dataframe tbody tr th:only-of-type {\n",
       "        vertical-align: middle;\n",
       "    }\n",
       "\n",
       "    .dataframe tbody tr th {\n",
       "        vertical-align: top;\n",
       "    }\n",
       "\n",
       "    .dataframe thead th {\n",
       "        text-align: right;\n",
       "    }\n",
       "</style>\n",
       "<table border=\"1\" class=\"dataframe\">\n",
       "  <thead>\n",
       "    <tr style=\"text-align: right;\">\n",
       "      <th></th>\n",
       "      <th>Pclass</th>\n",
       "      <th>Sex Encoded</th>\n",
       "      <th>Parch</th>\n",
       "    </tr>\n",
       "  </thead>\n",
       "  <tbody>\n",
       "    <tr>\n",
       "      <th>0</th>\n",
       "      <td>3</td>\n",
       "      <td>0</td>\n",
       "      <td>0</td>\n",
       "    </tr>\n",
       "    <tr>\n",
       "      <th>1</th>\n",
       "      <td>3</td>\n",
       "      <td>1</td>\n",
       "      <td>0</td>\n",
       "    </tr>\n",
       "    <tr>\n",
       "      <th>2</th>\n",
       "      <td>2</td>\n",
       "      <td>0</td>\n",
       "      <td>0</td>\n",
       "    </tr>\n",
       "    <tr>\n",
       "      <th>3</th>\n",
       "      <td>3</td>\n",
       "      <td>0</td>\n",
       "      <td>0</td>\n",
       "    </tr>\n",
       "    <tr>\n",
       "      <th>4</th>\n",
       "      <td>3</td>\n",
       "      <td>1</td>\n",
       "      <td>1</td>\n",
       "    </tr>\n",
       "    <tr>\n",
       "      <th>...</th>\n",
       "      <td>...</td>\n",
       "      <td>...</td>\n",
       "      <td>...</td>\n",
       "    </tr>\n",
       "    <tr>\n",
       "      <th>413</th>\n",
       "      <td>3</td>\n",
       "      <td>0</td>\n",
       "      <td>0</td>\n",
       "    </tr>\n",
       "    <tr>\n",
       "      <th>414</th>\n",
       "      <td>1</td>\n",
       "      <td>1</td>\n",
       "      <td>0</td>\n",
       "    </tr>\n",
       "    <tr>\n",
       "      <th>415</th>\n",
       "      <td>3</td>\n",
       "      <td>0</td>\n",
       "      <td>0</td>\n",
       "    </tr>\n",
       "    <tr>\n",
       "      <th>416</th>\n",
       "      <td>3</td>\n",
       "      <td>0</td>\n",
       "      <td>0</td>\n",
       "    </tr>\n",
       "    <tr>\n",
       "      <th>417</th>\n",
       "      <td>3</td>\n",
       "      <td>0</td>\n",
       "      <td>1</td>\n",
       "    </tr>\n",
       "  </tbody>\n",
       "</table>\n",
       "<p>418 rows × 3 columns</p>\n",
       "</div>"
      ],
      "text/plain": [
       "     Pclass  Sex Encoded  Parch\n",
       "0         3            0      0\n",
       "1         3            1      0\n",
       "2         2            0      0\n",
       "3         3            0      0\n",
       "4         3            1      1\n",
       "..      ...          ...    ...\n",
       "413       3            0      0\n",
       "414       1            1      0\n",
       "415       3            0      0\n",
       "416       3            0      0\n",
       "417       3            0      1\n",
       "\n",
       "[418 rows x 3 columns]"
      ]
     },
     "execution_count": 246,
     "metadata": {},
     "output_type": "execute_result"
    }
   ],
   "source": [
    "test[\"Sex Encoded\"] = pd.get_dummies(test[\"Sex\"])[\"female\"]\n",
    "\n",
    "final_features = test[[\"Pclass\", \"Sex Encoded\", \"Parch\"]]\n",
    "final_features"
   ]
  },
  {
   "cell_type": "code",
   "execution_count": 247,
   "metadata": {
    "execution": {
     "iopub.execute_input": "2021-06-12T08:11:00.295482Z",
     "iopub.status.busy": "2021-06-12T08:11:00.294883Z",
     "iopub.status.idle": "2021-06-12T08:11:00.300521Z",
     "shell.execute_reply": "2021-06-12T08:11:00.301083Z",
     "shell.execute_reply.started": "2021-06-12T07:44:07.719054Z"
    },
    "papermill": {
     "duration": 0.056379,
     "end_time": "2021-06-12T08:11:00.301247",
     "exception": false,
     "start_time": "2021-06-12T08:11:00.244868",
     "status": "completed"
    },
    "tags": []
   },
   "outputs": [],
   "source": [
    "final_y_pred = final_log_cv_model.predict(final_features)"
   ]
  },
  {
   "cell_type": "code",
   "execution_count": 248,
   "metadata": {
    "execution": {
     "iopub.execute_input": "2021-06-12T08:11:00.401894Z",
     "iopub.status.busy": "2021-06-12T08:11:00.401236Z",
     "iopub.status.idle": "2021-06-12T08:11:00.415343Z",
     "shell.execute_reply": "2021-06-12T08:11:00.414816Z",
     "shell.execute_reply.started": "2021-06-12T07:44:07.726963Z"
    },
    "papermill": {
     "duration": 0.066273,
     "end_time": "2021-06-12T08:11:00.415479",
     "exception": false,
     "start_time": "2021-06-12T08:11:00.349206",
     "status": "completed"
    },
    "tags": []
   },
   "outputs": [
    {
     "data": {
      "text/html": [
       "<div>\n",
       "<style scoped>\n",
       "    .dataframe tbody tr th:only-of-type {\n",
       "        vertical-align: middle;\n",
       "    }\n",
       "\n",
       "    .dataframe tbody tr th {\n",
       "        vertical-align: top;\n",
       "    }\n",
       "\n",
       "    .dataframe thead th {\n",
       "        text-align: right;\n",
       "    }\n",
       "</style>\n",
       "<table border=\"1\" class=\"dataframe\">\n",
       "  <thead>\n",
       "    <tr style=\"text-align: right;\">\n",
       "      <th></th>\n",
       "      <th>PassengerId</th>\n",
       "      <th>Survived</th>\n",
       "    </tr>\n",
       "  </thead>\n",
       "  <tbody>\n",
       "    <tr>\n",
       "      <th>0</th>\n",
       "      <td>892</td>\n",
       "      <td>0</td>\n",
       "    </tr>\n",
       "    <tr>\n",
       "      <th>1</th>\n",
       "      <td>893</td>\n",
       "      <td>1</td>\n",
       "    </tr>\n",
       "    <tr>\n",
       "      <th>2</th>\n",
       "      <td>894</td>\n",
       "      <td>0</td>\n",
       "    </tr>\n",
       "    <tr>\n",
       "      <th>3</th>\n",
       "      <td>895</td>\n",
       "      <td>0</td>\n",
       "    </tr>\n",
       "    <tr>\n",
       "      <th>4</th>\n",
       "      <td>896</td>\n",
       "      <td>1</td>\n",
       "    </tr>\n",
       "    <tr>\n",
       "      <th>...</th>\n",
       "      <td>...</td>\n",
       "      <td>...</td>\n",
       "    </tr>\n",
       "    <tr>\n",
       "      <th>413</th>\n",
       "      <td>1305</td>\n",
       "      <td>0</td>\n",
       "    </tr>\n",
       "    <tr>\n",
       "      <th>414</th>\n",
       "      <td>1306</td>\n",
       "      <td>1</td>\n",
       "    </tr>\n",
       "    <tr>\n",
       "      <th>415</th>\n",
       "      <td>1307</td>\n",
       "      <td>0</td>\n",
       "    </tr>\n",
       "    <tr>\n",
       "      <th>416</th>\n",
       "      <td>1308</td>\n",
       "      <td>0</td>\n",
       "    </tr>\n",
       "    <tr>\n",
       "      <th>417</th>\n",
       "      <td>1309</td>\n",
       "      <td>0</td>\n",
       "    </tr>\n",
       "  </tbody>\n",
       "</table>\n",
       "<p>418 rows × 2 columns</p>\n",
       "</div>"
      ],
      "text/plain": [
       "     PassengerId  Survived\n",
       "0            892         0\n",
       "1            893         1\n",
       "2            894         0\n",
       "3            895         0\n",
       "4            896         1\n",
       "..           ...       ...\n",
       "413         1305         0\n",
       "414         1306         1\n",
       "415         1307         0\n",
       "416         1308         0\n",
       "417         1309         0\n",
       "\n",
       "[418 rows x 2 columns]"
      ]
     },
     "execution_count": 248,
     "metadata": {},
     "output_type": "execute_result"
    }
   ],
   "source": [
    "# No further analysis is done, we submit the predictions for a true evaluation on unseen data\n",
    "results_df = pd.DataFrame()\n",
    "\n",
    "results_df[\"PassengerId\"] = test[\"PassengerId\"]\n",
    "results_df[\"Survived\"] = final_y_pred\n",
    "\n",
    "results_df"
   ]
  },
  {
   "cell_type": "code",
   "execution_count": 249,
   "metadata": {},
   "outputs": [
    {
     "data": {
      "text/html": [
       "<div>\n",
       "<style scoped>\n",
       "    .dataframe tbody tr th:only-of-type {\n",
       "        vertical-align: middle;\n",
       "    }\n",
       "\n",
       "    .dataframe tbody tr th {\n",
       "        vertical-align: top;\n",
       "    }\n",
       "\n",
       "    .dataframe thead th {\n",
       "        text-align: right;\n",
       "    }\n",
       "</style>\n",
       "<table border=\"1\" class=\"dataframe\">\n",
       "  <thead>\n",
       "    <tr style=\"text-align: right;\">\n",
       "      <th></th>\n",
       "      <th>Survived</th>\n",
       "    </tr>\n",
       "    <tr>\n",
       "      <th>PassengerId</th>\n",
       "      <th></th>\n",
       "    </tr>\n",
       "  </thead>\n",
       "  <tbody>\n",
       "    <tr>\n",
       "      <th>892</th>\n",
       "      <td>0</td>\n",
       "    </tr>\n",
       "    <tr>\n",
       "      <th>893</th>\n",
       "      <td>1</td>\n",
       "    </tr>\n",
       "    <tr>\n",
       "      <th>894</th>\n",
       "      <td>0</td>\n",
       "    </tr>\n",
       "    <tr>\n",
       "      <th>895</th>\n",
       "      <td>0</td>\n",
       "    </tr>\n",
       "    <tr>\n",
       "      <th>896</th>\n",
       "      <td>1</td>\n",
       "    </tr>\n",
       "  </tbody>\n",
       "</table>\n",
       "</div>"
      ],
      "text/plain": [
       "             Survived\n",
       "PassengerId          \n",
       "892                 0\n",
       "893                 1\n",
       "894                 0\n",
       "895                 0\n",
       "896                 1"
      ]
     },
     "execution_count": 249,
     "metadata": {},
     "output_type": "execute_result"
    }
   ],
   "source": [
    "results_df = results_df.set_index(\"PassengerId\")\n",
    "results_df.head()"
   ]
  },
  {
   "cell_type": "code",
   "execution_count": 250,
   "metadata": {
    "execution": {
     "iopub.execute_input": "2021-06-12T08:11:00.517613Z",
     "iopub.status.busy": "2021-06-12T08:11:00.516905Z",
     "iopub.status.idle": "2021-06-12T08:11:00.523668Z",
     "shell.execute_reply": "2021-06-12T08:11:00.524146Z",
     "shell.execute_reply.started": "2021-06-12T07:45:15.102022Z"
    },
    "papermill": {
     "duration": 0.060322,
     "end_time": "2021-06-12T08:11:00.524331",
     "exception": false,
     "start_time": "2021-06-12T08:11:00.464009",
     "status": "completed"
    },
    "tags": []
   },
   "outputs": [],
   "source": [
    "results_df.to_csv(\"submission.csv\")"
   ]
  },
  {
   "cell_type": "code",
   "execution_count": null,
   "metadata": {},
   "outputs": [],
   "source": []
  }
 ],
 "metadata": {
  "kernelspec": {
   "display_name": "Python 3",
   "language": "python",
   "name": "python3"
  },
  "language_info": {
   "codemirror_mode": {
    "name": "ipython",
    "version": 3
   },
   "file_extension": ".py",
   "mimetype": "text/x-python",
   "name": "python",
   "nbconvert_exporter": "python",
   "pygments_lexer": "ipython3",
   "version": "3.8.5"
  },
  "papermill": {
   "default_parameters": {},
   "duration": 16.976922,
   "end_time": "2021-06-12T08:11:02.359446",
   "environment_variables": {},
   "exception": null,
   "input_path": "__notebook__.ipynb",
   "output_path": "__notebook__.ipynb",
   "parameters": {},
   "start_time": "2021-06-12T08:10:45.382524",
   "version": "2.3.3"
  }
 },
 "nbformat": 4,
 "nbformat_minor": 5
}
