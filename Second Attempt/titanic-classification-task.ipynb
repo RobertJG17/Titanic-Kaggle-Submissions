{
 "cells": [
  {
   "cell_type": "markdown",
   "metadata": {
    "papermill": {
     "duration": 0.038448,
     "end_time": "2021-06-14T19:51:52.339440",
     "exception": false,
     "start_time": "2021-06-14T19:51:52.300992",
     "status": "completed"
    },
    "tags": []
   },
   "source": [
    "# Data Cleaning/Preprocessing\n",
    "* It appears there are only 2 features that have a high volume of NaN columns. They are relatively inconsequential features since we will not use them to train our ML model. Thus, we will choose to drop these columns.\n",
    "* Since we would like to feed our model information about a person's gender, we will use dummy encoding to map integral values to each binary string classifier {\"female\": 1, \"male\": 0}\n",
    "* We only have 2 rows that are missing a value for \"Embarked\". We might wish to explore/train our model off of this feature so I will drop the 2 NaN rows in order to sure there are no NaN values."
   ]
  },
  {
   "cell_type": "code",
   "execution_count": 2,
   "metadata": {},
   "outputs": [],
   "source": [
    "import numpy as np\n",
    "import pandas as pd"
   ]
  },
  {
   "cell_type": "code",
   "execution_count": 3,
   "metadata": {
    "execution": {
     "iopub.execute_input": "2021-06-14T19:51:52.423873Z",
     "iopub.status.busy": "2021-06-14T19:51:52.423303Z",
     "iopub.status.idle": "2021-06-14T19:51:52.468096Z",
     "shell.execute_reply": "2021-06-14T19:51:52.467516Z",
     "shell.execute_reply.started": "2021-06-14T19:48:19.321693Z"
    },
    "papermill": {
     "duration": 0.089359,
     "end_time": "2021-06-14T19:51:52.468216",
     "exception": false,
     "start_time": "2021-06-14T19:51:52.378857",
     "status": "completed"
    },
    "tags": []
   },
   "outputs": [
    {
     "data": {
      "text/html": [
       "<div>\n",
       "<style scoped>\n",
       "    .dataframe tbody tr th:only-of-type {\n",
       "        vertical-align: middle;\n",
       "    }\n",
       "\n",
       "    .dataframe tbody tr th {\n",
       "        vertical-align: top;\n",
       "    }\n",
       "\n",
       "    .dataframe thead th {\n",
       "        text-align: right;\n",
       "    }\n",
       "</style>\n",
       "<table border=\"1\" class=\"dataframe\">\n",
       "  <thead>\n",
       "    <tr style=\"text-align: right;\">\n",
       "      <th></th>\n",
       "      <th>PassengerId</th>\n",
       "      <th>Survived</th>\n",
       "      <th>Pclass</th>\n",
       "      <th>Name</th>\n",
       "      <th>Sex</th>\n",
       "      <th>Age</th>\n",
       "      <th>SibSp</th>\n",
       "      <th>Parch</th>\n",
       "      <th>Ticket</th>\n",
       "      <th>Fare</th>\n",
       "      <th>Cabin</th>\n",
       "      <th>Embarked</th>\n",
       "    </tr>\n",
       "  </thead>\n",
       "  <tbody>\n",
       "    <tr>\n",
       "      <th>0</th>\n",
       "      <td>1</td>\n",
       "      <td>0</td>\n",
       "      <td>3</td>\n",
       "      <td>Braund, Mr. Owen Harris</td>\n",
       "      <td>male</td>\n",
       "      <td>22.0</td>\n",
       "      <td>1</td>\n",
       "      <td>0</td>\n",
       "      <td>A/5 21171</td>\n",
       "      <td>7.2500</td>\n",
       "      <td>NaN</td>\n",
       "      <td>S</td>\n",
       "    </tr>\n",
       "    <tr>\n",
       "      <th>1</th>\n",
       "      <td>2</td>\n",
       "      <td>1</td>\n",
       "      <td>1</td>\n",
       "      <td>Cumings, Mrs. John Bradley (Florence Briggs Th...</td>\n",
       "      <td>female</td>\n",
       "      <td>38.0</td>\n",
       "      <td>1</td>\n",
       "      <td>0</td>\n",
       "      <td>PC 17599</td>\n",
       "      <td>71.2833</td>\n",
       "      <td>C85</td>\n",
       "      <td>C</td>\n",
       "    </tr>\n",
       "    <tr>\n",
       "      <th>2</th>\n",
       "      <td>3</td>\n",
       "      <td>1</td>\n",
       "      <td>3</td>\n",
       "      <td>Heikkinen, Miss. Laina</td>\n",
       "      <td>female</td>\n",
       "      <td>26.0</td>\n",
       "      <td>0</td>\n",
       "      <td>0</td>\n",
       "      <td>STON/O2. 3101282</td>\n",
       "      <td>7.9250</td>\n",
       "      <td>NaN</td>\n",
       "      <td>S</td>\n",
       "    </tr>\n",
       "    <tr>\n",
       "      <th>3</th>\n",
       "      <td>4</td>\n",
       "      <td>1</td>\n",
       "      <td>1</td>\n",
       "      <td>Futrelle, Mrs. Jacques Heath (Lily May Peel)</td>\n",
       "      <td>female</td>\n",
       "      <td>35.0</td>\n",
       "      <td>1</td>\n",
       "      <td>0</td>\n",
       "      <td>113803</td>\n",
       "      <td>53.1000</td>\n",
       "      <td>C123</td>\n",
       "      <td>S</td>\n",
       "    </tr>\n",
       "    <tr>\n",
       "      <th>4</th>\n",
       "      <td>5</td>\n",
       "      <td>0</td>\n",
       "      <td>3</td>\n",
       "      <td>Allen, Mr. William Henry</td>\n",
       "      <td>male</td>\n",
       "      <td>35.0</td>\n",
       "      <td>0</td>\n",
       "      <td>0</td>\n",
       "      <td>373450</td>\n",
       "      <td>8.0500</td>\n",
       "      <td>NaN</td>\n",
       "      <td>S</td>\n",
       "    </tr>\n",
       "    <tr>\n",
       "      <th>...</th>\n",
       "      <td>...</td>\n",
       "      <td>...</td>\n",
       "      <td>...</td>\n",
       "      <td>...</td>\n",
       "      <td>...</td>\n",
       "      <td>...</td>\n",
       "      <td>...</td>\n",
       "      <td>...</td>\n",
       "      <td>...</td>\n",
       "      <td>...</td>\n",
       "      <td>...</td>\n",
       "      <td>...</td>\n",
       "    </tr>\n",
       "    <tr>\n",
       "      <th>886</th>\n",
       "      <td>887</td>\n",
       "      <td>0</td>\n",
       "      <td>2</td>\n",
       "      <td>Montvila, Rev. Juozas</td>\n",
       "      <td>male</td>\n",
       "      <td>27.0</td>\n",
       "      <td>0</td>\n",
       "      <td>0</td>\n",
       "      <td>211536</td>\n",
       "      <td>13.0000</td>\n",
       "      <td>NaN</td>\n",
       "      <td>S</td>\n",
       "    </tr>\n",
       "    <tr>\n",
       "      <th>887</th>\n",
       "      <td>888</td>\n",
       "      <td>1</td>\n",
       "      <td>1</td>\n",
       "      <td>Graham, Miss. Margaret Edith</td>\n",
       "      <td>female</td>\n",
       "      <td>19.0</td>\n",
       "      <td>0</td>\n",
       "      <td>0</td>\n",
       "      <td>112053</td>\n",
       "      <td>30.0000</td>\n",
       "      <td>B42</td>\n",
       "      <td>S</td>\n",
       "    </tr>\n",
       "    <tr>\n",
       "      <th>888</th>\n",
       "      <td>889</td>\n",
       "      <td>0</td>\n",
       "      <td>3</td>\n",
       "      <td>Johnston, Miss. Catherine Helen \"Carrie\"</td>\n",
       "      <td>female</td>\n",
       "      <td>NaN</td>\n",
       "      <td>1</td>\n",
       "      <td>2</td>\n",
       "      <td>W./C. 6607</td>\n",
       "      <td>23.4500</td>\n",
       "      <td>NaN</td>\n",
       "      <td>S</td>\n",
       "    </tr>\n",
       "    <tr>\n",
       "      <th>889</th>\n",
       "      <td>890</td>\n",
       "      <td>1</td>\n",
       "      <td>1</td>\n",
       "      <td>Behr, Mr. Karl Howell</td>\n",
       "      <td>male</td>\n",
       "      <td>26.0</td>\n",
       "      <td>0</td>\n",
       "      <td>0</td>\n",
       "      <td>111369</td>\n",
       "      <td>30.0000</td>\n",
       "      <td>C148</td>\n",
       "      <td>C</td>\n",
       "    </tr>\n",
       "    <tr>\n",
       "      <th>890</th>\n",
       "      <td>891</td>\n",
       "      <td>0</td>\n",
       "      <td>3</td>\n",
       "      <td>Dooley, Mr. Patrick</td>\n",
       "      <td>male</td>\n",
       "      <td>32.0</td>\n",
       "      <td>0</td>\n",
       "      <td>0</td>\n",
       "      <td>370376</td>\n",
       "      <td>7.7500</td>\n",
       "      <td>NaN</td>\n",
       "      <td>Q</td>\n",
       "    </tr>\n",
       "  </tbody>\n",
       "</table>\n",
       "<p>891 rows × 12 columns</p>\n",
       "</div>"
      ],
      "text/plain": [
       "     PassengerId  Survived  Pclass  \\\n",
       "0              1         0       3   \n",
       "1              2         1       1   \n",
       "2              3         1       3   \n",
       "3              4         1       1   \n",
       "4              5         0       3   \n",
       "..           ...       ...     ...   \n",
       "886          887         0       2   \n",
       "887          888         1       1   \n",
       "888          889         0       3   \n",
       "889          890         1       1   \n",
       "890          891         0       3   \n",
       "\n",
       "                                                  Name     Sex   Age  SibSp  \\\n",
       "0                              Braund, Mr. Owen Harris    male  22.0      1   \n",
       "1    Cumings, Mrs. John Bradley (Florence Briggs Th...  female  38.0      1   \n",
       "2                               Heikkinen, Miss. Laina  female  26.0      0   \n",
       "3         Futrelle, Mrs. Jacques Heath (Lily May Peel)  female  35.0      1   \n",
       "4                             Allen, Mr. William Henry    male  35.0      0   \n",
       "..                                                 ...     ...   ...    ...   \n",
       "886                              Montvila, Rev. Juozas    male  27.0      0   \n",
       "887                       Graham, Miss. Margaret Edith  female  19.0      0   \n",
       "888           Johnston, Miss. Catherine Helen \"Carrie\"  female   NaN      1   \n",
       "889                              Behr, Mr. Karl Howell    male  26.0      0   \n",
       "890                                Dooley, Mr. Patrick    male  32.0      0   \n",
       "\n",
       "     Parch            Ticket     Fare Cabin Embarked  \n",
       "0        0         A/5 21171   7.2500   NaN        S  \n",
       "1        0          PC 17599  71.2833   C85        C  \n",
       "2        0  STON/O2. 3101282   7.9250   NaN        S  \n",
       "3        0            113803  53.1000  C123        S  \n",
       "4        0            373450   8.0500   NaN        S  \n",
       "..     ...               ...      ...   ...      ...  \n",
       "886      0            211536  13.0000   NaN        S  \n",
       "887      0            112053  30.0000   B42        S  \n",
       "888      2        W./C. 6607  23.4500   NaN        S  \n",
       "889      0            111369  30.0000  C148        C  \n",
       "890      0            370376   7.7500   NaN        Q  \n",
       "\n",
       "[891 rows x 12 columns]"
      ]
     },
     "execution_count": 3,
     "metadata": {},
     "output_type": "execute_result"
    }
   ],
   "source": [
    "df = pd.read_csv(\"DATA/train.csv\")\n",
    "df"
   ]
  },
  {
   "cell_type": "code",
   "execution_count": 4,
   "metadata": {
    "execution": {
     "iopub.execute_input": "2021-06-14T19:51:52.554481Z",
     "iopub.status.busy": "2021-06-14T19:51:52.552450Z",
     "iopub.status.idle": "2021-06-14T19:51:52.558145Z",
     "shell.execute_reply": "2021-06-14T19:51:52.557631Z",
     "shell.execute_reply.started": "2021-06-14T19:48:19.358966Z"
    },
    "papermill": {
     "duration": 0.050702,
     "end_time": "2021-06-14T19:51:52.558266",
     "exception": false,
     "start_time": "2021-06-14T19:51:52.507564",
     "status": "completed"
    },
    "tags": []
   },
   "outputs": [
    {
     "data": {
      "text/plain": [
       "PassengerId      0\n",
       "Survived         0\n",
       "Pclass           0\n",
       "Name             0\n",
       "Sex              0\n",
       "Age            177\n",
       "SibSp            0\n",
       "Parch            0\n",
       "Ticket           0\n",
       "Fare             0\n",
       "Cabin          687\n",
       "Embarked         2\n",
       "dtype: int64"
      ]
     },
     "execution_count": 4,
     "metadata": {},
     "output_type": "execute_result"
    }
   ],
   "source": [
    "df.isnull().sum()"
   ]
  },
  {
   "cell_type": "code",
   "execution_count": 5,
   "metadata": {
    "execution": {
     "iopub.execute_input": "2021-06-14T19:51:52.649866Z",
     "iopub.status.busy": "2021-06-14T19:51:52.648987Z",
     "iopub.status.idle": "2021-06-14T19:51:52.652814Z",
     "shell.execute_reply": "2021-06-14T19:51:52.652416Z",
     "shell.execute_reply.started": "2021-06-14T19:48:19.370167Z"
    },
    "papermill": {
     "duration": 0.051917,
     "end_time": "2021-06-14T19:51:52.652968",
     "exception": false,
     "start_time": "2021-06-14T19:51:52.601051",
     "status": "completed"
    },
    "tags": []
   },
   "outputs": [
    {
     "data": {
      "text/plain": [
       "Int64Index([61, 829], dtype='int64')"
      ]
     },
     "execution_count": 5,
     "metadata": {},
     "output_type": "execute_result"
    }
   ],
   "source": [
    "embarked_nan = df[df[\"Embarked\"].isnull()].index\n",
    "embarked_nan"
   ]
  },
  {
   "cell_type": "code",
   "execution_count": 6,
   "metadata": {
    "execution": {
     "iopub.execute_input": "2021-06-14T19:51:52.747183Z",
     "iopub.status.busy": "2021-06-14T19:51:52.746580Z",
     "iopub.status.idle": "2021-06-14T19:51:52.774869Z",
     "shell.execute_reply": "2021-06-14T19:51:52.774413Z",
     "shell.execute_reply.started": "2021-06-14T19:48:19.384237Z"
    },
    "papermill": {
     "duration": 0.081532,
     "end_time": "2021-06-14T19:51:52.775016",
     "exception": false,
     "start_time": "2021-06-14T19:51:52.693484",
     "status": "completed"
    },
    "tags": []
   },
   "outputs": [
    {
     "data": {
      "text/html": [
       "<div>\n",
       "<style scoped>\n",
       "    .dataframe tbody tr th:only-of-type {\n",
       "        vertical-align: middle;\n",
       "    }\n",
       "\n",
       "    .dataframe tbody tr th {\n",
       "        vertical-align: top;\n",
       "    }\n",
       "\n",
       "    .dataframe thead th {\n",
       "        text-align: right;\n",
       "    }\n",
       "</style>\n",
       "<table border=\"1\" class=\"dataframe\">\n",
       "  <thead>\n",
       "    <tr style=\"text-align: right;\">\n",
       "      <th></th>\n",
       "      <th>index</th>\n",
       "      <th>PassengerId</th>\n",
       "      <th>Survived</th>\n",
       "      <th>Pclass</th>\n",
       "      <th>Name</th>\n",
       "      <th>SibSp</th>\n",
       "      <th>Parch</th>\n",
       "      <th>Ticket</th>\n",
       "      <th>Fare</th>\n",
       "      <th>Embarked</th>\n",
       "      <th>Sex Encoded</th>\n",
       "      <th>C</th>\n",
       "      <th>S</th>\n",
       "      <th>Q</th>\n",
       "    </tr>\n",
       "  </thead>\n",
       "  <tbody>\n",
       "    <tr>\n",
       "      <th>0</th>\n",
       "      <td>0</td>\n",
       "      <td>1</td>\n",
       "      <td>0</td>\n",
       "      <td>3</td>\n",
       "      <td>Braund, Mr. Owen Harris</td>\n",
       "      <td>1</td>\n",
       "      <td>0</td>\n",
       "      <td>A/5 21171</td>\n",
       "      <td>7.2500</td>\n",
       "      <td>S</td>\n",
       "      <td>0</td>\n",
       "      <td>0</td>\n",
       "      <td>1</td>\n",
       "      <td>0</td>\n",
       "    </tr>\n",
       "    <tr>\n",
       "      <th>1</th>\n",
       "      <td>1</td>\n",
       "      <td>2</td>\n",
       "      <td>1</td>\n",
       "      <td>1</td>\n",
       "      <td>Cumings, Mrs. John Bradley (Florence Briggs Th...</td>\n",
       "      <td>1</td>\n",
       "      <td>0</td>\n",
       "      <td>PC 17599</td>\n",
       "      <td>71.2833</td>\n",
       "      <td>C</td>\n",
       "      <td>1</td>\n",
       "      <td>1</td>\n",
       "      <td>0</td>\n",
       "      <td>0</td>\n",
       "    </tr>\n",
       "    <tr>\n",
       "      <th>2</th>\n",
       "      <td>2</td>\n",
       "      <td>3</td>\n",
       "      <td>1</td>\n",
       "      <td>3</td>\n",
       "      <td>Heikkinen, Miss. Laina</td>\n",
       "      <td>0</td>\n",
       "      <td>0</td>\n",
       "      <td>STON/O2. 3101282</td>\n",
       "      <td>7.9250</td>\n",
       "      <td>S</td>\n",
       "      <td>1</td>\n",
       "      <td>0</td>\n",
       "      <td>1</td>\n",
       "      <td>0</td>\n",
       "    </tr>\n",
       "    <tr>\n",
       "      <th>3</th>\n",
       "      <td>3</td>\n",
       "      <td>4</td>\n",
       "      <td>1</td>\n",
       "      <td>1</td>\n",
       "      <td>Futrelle, Mrs. Jacques Heath (Lily May Peel)</td>\n",
       "      <td>1</td>\n",
       "      <td>0</td>\n",
       "      <td>113803</td>\n",
       "      <td>53.1000</td>\n",
       "      <td>S</td>\n",
       "      <td>1</td>\n",
       "      <td>0</td>\n",
       "      <td>1</td>\n",
       "      <td>0</td>\n",
       "    </tr>\n",
       "    <tr>\n",
       "      <th>4</th>\n",
       "      <td>4</td>\n",
       "      <td>5</td>\n",
       "      <td>0</td>\n",
       "      <td>3</td>\n",
       "      <td>Allen, Mr. William Henry</td>\n",
       "      <td>0</td>\n",
       "      <td>0</td>\n",
       "      <td>373450</td>\n",
       "      <td>8.0500</td>\n",
       "      <td>S</td>\n",
       "      <td>0</td>\n",
       "      <td>0</td>\n",
       "      <td>1</td>\n",
       "      <td>0</td>\n",
       "    </tr>\n",
       "    <tr>\n",
       "      <th>...</th>\n",
       "      <td>...</td>\n",
       "      <td>...</td>\n",
       "      <td>...</td>\n",
       "      <td>...</td>\n",
       "      <td>...</td>\n",
       "      <td>...</td>\n",
       "      <td>...</td>\n",
       "      <td>...</td>\n",
       "      <td>...</td>\n",
       "      <td>...</td>\n",
       "      <td>...</td>\n",
       "      <td>...</td>\n",
       "      <td>...</td>\n",
       "      <td>...</td>\n",
       "    </tr>\n",
       "    <tr>\n",
       "      <th>884</th>\n",
       "      <td>886</td>\n",
       "      <td>887</td>\n",
       "      <td>0</td>\n",
       "      <td>2</td>\n",
       "      <td>Montvila, Rev. Juozas</td>\n",
       "      <td>0</td>\n",
       "      <td>0</td>\n",
       "      <td>211536</td>\n",
       "      <td>13.0000</td>\n",
       "      <td>S</td>\n",
       "      <td>0</td>\n",
       "      <td>0</td>\n",
       "      <td>1</td>\n",
       "      <td>0</td>\n",
       "    </tr>\n",
       "    <tr>\n",
       "      <th>885</th>\n",
       "      <td>887</td>\n",
       "      <td>888</td>\n",
       "      <td>1</td>\n",
       "      <td>1</td>\n",
       "      <td>Graham, Miss. Margaret Edith</td>\n",
       "      <td>0</td>\n",
       "      <td>0</td>\n",
       "      <td>112053</td>\n",
       "      <td>30.0000</td>\n",
       "      <td>S</td>\n",
       "      <td>1</td>\n",
       "      <td>0</td>\n",
       "      <td>1</td>\n",
       "      <td>0</td>\n",
       "    </tr>\n",
       "    <tr>\n",
       "      <th>886</th>\n",
       "      <td>888</td>\n",
       "      <td>889</td>\n",
       "      <td>0</td>\n",
       "      <td>3</td>\n",
       "      <td>Johnston, Miss. Catherine Helen \"Carrie\"</td>\n",
       "      <td>1</td>\n",
       "      <td>2</td>\n",
       "      <td>W./C. 6607</td>\n",
       "      <td>23.4500</td>\n",
       "      <td>S</td>\n",
       "      <td>1</td>\n",
       "      <td>0</td>\n",
       "      <td>1</td>\n",
       "      <td>0</td>\n",
       "    </tr>\n",
       "    <tr>\n",
       "      <th>887</th>\n",
       "      <td>889</td>\n",
       "      <td>890</td>\n",
       "      <td>1</td>\n",
       "      <td>1</td>\n",
       "      <td>Behr, Mr. Karl Howell</td>\n",
       "      <td>0</td>\n",
       "      <td>0</td>\n",
       "      <td>111369</td>\n",
       "      <td>30.0000</td>\n",
       "      <td>C</td>\n",
       "      <td>0</td>\n",
       "      <td>1</td>\n",
       "      <td>0</td>\n",
       "      <td>0</td>\n",
       "    </tr>\n",
       "    <tr>\n",
       "      <th>888</th>\n",
       "      <td>890</td>\n",
       "      <td>891</td>\n",
       "      <td>0</td>\n",
       "      <td>3</td>\n",
       "      <td>Dooley, Mr. Patrick</td>\n",
       "      <td>0</td>\n",
       "      <td>0</td>\n",
       "      <td>370376</td>\n",
       "      <td>7.7500</td>\n",
       "      <td>Q</td>\n",
       "      <td>0</td>\n",
       "      <td>0</td>\n",
       "      <td>0</td>\n",
       "      <td>1</td>\n",
       "    </tr>\n",
       "  </tbody>\n",
       "</table>\n",
       "<p>889 rows × 14 columns</p>\n",
       "</div>"
      ],
      "text/plain": [
       "     index  PassengerId  Survived  Pclass  \\\n",
       "0        0            1         0       3   \n",
       "1        1            2         1       1   \n",
       "2        2            3         1       3   \n",
       "3        3            4         1       1   \n",
       "4        4            5         0       3   \n",
       "..     ...          ...       ...     ...   \n",
       "884    886          887         0       2   \n",
       "885    887          888         1       1   \n",
       "886    888          889         0       3   \n",
       "887    889          890         1       1   \n",
       "888    890          891         0       3   \n",
       "\n",
       "                                                  Name  SibSp  Parch  \\\n",
       "0                              Braund, Mr. Owen Harris      1      0   \n",
       "1    Cumings, Mrs. John Bradley (Florence Briggs Th...      1      0   \n",
       "2                               Heikkinen, Miss. Laina      0      0   \n",
       "3         Futrelle, Mrs. Jacques Heath (Lily May Peel)      1      0   \n",
       "4                             Allen, Mr. William Henry      0      0   \n",
       "..                                                 ...    ...    ...   \n",
       "884                              Montvila, Rev. Juozas      0      0   \n",
       "885                       Graham, Miss. Margaret Edith      0      0   \n",
       "886           Johnston, Miss. Catherine Helen \"Carrie\"      1      2   \n",
       "887                              Behr, Mr. Karl Howell      0      0   \n",
       "888                                Dooley, Mr. Patrick      0      0   \n",
       "\n",
       "               Ticket     Fare Embarked  Sex Encoded  C  S  Q  \n",
       "0           A/5 21171   7.2500        S            0  0  1  0  \n",
       "1            PC 17599  71.2833        C            1  1  0  0  \n",
       "2    STON/O2. 3101282   7.9250        S            1  0  1  0  \n",
       "3              113803  53.1000        S            1  0  1  0  \n",
       "4              373450   8.0500        S            0  0  1  0  \n",
       "..                ...      ...      ...          ... .. .. ..  \n",
       "884            211536  13.0000        S            0  0  1  0  \n",
       "885            112053  30.0000        S            1  0  1  0  \n",
       "886        W./C. 6607  23.4500        S            1  0  1  0  \n",
       "887            111369  30.0000        C            0  1  0  0  \n",
       "888            370376   7.7500        Q            0  0  0  1  \n",
       "\n",
       "[889 rows x 14 columns]"
      ]
     },
     "execution_count": 6,
     "metadata": {},
     "output_type": "execute_result"
    }
   ],
   "source": [
    "pd.options.mode.chained_assignment = None\n",
    "\n",
    "# BIG O' FEATURE ENGINEERING \n",
    "\n",
    "df[\"Sex Encoded\"] = pd.get_dummies(df[\"Sex\"])[\"female\"]\n",
    "embarked_dummies = pd.get_dummies(df[\"Embarked\"])\n",
    "\n",
    "df[\"C\"] = embarked_dummies[\"C\"]\n",
    "df[\"S\"] = embarked_dummies[\"S\"]\n",
    "df[\"Q\"] = embarked_dummies[\"Q\"]\n",
    "\n",
    "# DROPPING COLS\n",
    "\n",
    "df = df.drop([\"Age\", \"Cabin\", \"Sex\"], axis=1)\n",
    "\n",
    "# DROPPING ROWS\n",
    "\n",
    "df = df.drop(index=embarked_nan, axis=0)\n",
    "\n",
    "# RESETTING INDEX\n",
    "\n",
    "df = df.reset_index()\n",
    "\n",
    "df"
   ]
  },
  {
   "cell_type": "markdown",
   "metadata": {
    "papermill": {
     "duration": 0.041816,
     "end_time": "2021-06-14T19:51:52.859475",
     "exception": false,
     "start_time": "2021-06-14T19:51:52.817659",
     "status": "completed"
    },
    "tags": []
   },
   "source": [
    "# Exploratory Data Analysis w/ Titanic Data\n",
    "We will perform some exploratory data analysis with our current data to gain insight on feature distributions, explore relationships between features, and figure out how we should proceed with our feature selection process."
   ]
  },
  {
   "cell_type": "code",
   "execution_count": 7,
   "metadata": {
    "execution": {
     "iopub.execute_input": "2021-06-14T19:51:52.945513Z",
     "iopub.status.busy": "2021-06-14T19:51:52.945010Z",
     "iopub.status.idle": "2021-06-14T19:51:53.662628Z",
     "shell.execute_reply": "2021-06-14T19:51:53.663075Z",
     "shell.execute_reply.started": "2021-06-14T19:48:19.421566Z"
    },
    "papermill": {
     "duration": 0.762165,
     "end_time": "2021-06-14T19:51:53.663228",
     "exception": false,
     "start_time": "2021-06-14T19:51:52.901063",
     "status": "completed"
    },
    "tags": []
   },
   "outputs": [],
   "source": [
    "import matplotlib.pyplot as plt\n",
    "import seaborn as sns"
   ]
  },
  {
   "cell_type": "code",
   "execution_count": 8,
   "metadata": {
    "execution": {
     "iopub.execute_input": "2021-06-14T19:51:53.748922Z",
     "iopub.status.busy": "2021-06-14T19:51:53.748342Z",
     "iopub.status.idle": "2021-06-14T19:51:54.025193Z",
     "shell.execute_reply": "2021-06-14T19:51:54.025702Z",
     "shell.execute_reply.started": "2021-06-14T19:48:19.426518Z"
    },
    "papermill": {
     "duration": 0.32005,
     "end_time": "2021-06-14T19:51:54.025853",
     "exception": false,
     "start_time": "2021-06-14T19:51:53.705803",
     "status": "completed"
    },
    "tags": []
   },
   "outputs": [
    {
     "data": {
      "image/png": "[encoded data removed]",
      "text/plain": [
       "<Figure size 2400x1000 with 1 Axes>"
      ]
     },
     "metadata": {
      "needs_background": "light"
     },
     "output_type": "display_data"
    }
   ],
   "source": [
    "plt.figure(figsize=(12, 5), dpi=200)\n",
    "sns.countplot(x=\"Pclass\", data=df, hue=\"Survived\")\n",
    "plt.show()"
   ]
  },
  {
   "cell_type": "code",
   "execution_count": 9,
   "metadata": {
    "execution": {
     "iopub.execute_input": "2021-06-14T19:51:54.113248Z",
     "iopub.status.busy": "2021-06-14T19:51:54.112700Z",
     "iopub.status.idle": "2021-06-14T19:51:54.121602Z",
     "shell.execute_reply": "2021-06-14T19:51:54.122127Z",
     "shell.execute_reply.started": "2021-06-14T19:48:19.680394Z"
    },
    "papermill": {
     "duration": 0.054132,
     "end_time": "2021-06-14T19:51:54.122270",
     "exception": false,
     "start_time": "2021-06-14T19:51:54.068138",
     "status": "completed"
    },
    "tags": []
   },
   "outputs": [
    {
     "data": {
      "text/plain": [
       "Pclass\n",
       "1    0.626168\n",
       "2    0.472826\n",
       "3    0.242363\n",
       "Name: Survived, dtype: float64"
      ]
     },
     "execution_count": 9,
     "metadata": {},
     "output_type": "execute_result"
    }
   ],
   "source": [
    "df.groupby(\"Pclass\").mean()[\"Survived\"]"
   ]
  },
  {
   "cell_type": "code",
   "execution_count": 10,
   "metadata": {
    "execution": {
     "iopub.execute_input": "2021-06-14T19:51:54.209247Z",
     "iopub.status.busy": "2021-06-14T19:51:54.208645Z",
     "iopub.status.idle": "2021-06-14T19:51:54.422735Z",
     "shell.execute_reply": "2021-06-14T19:51:54.422198Z",
     "shell.execute_reply.started": "2021-06-14T19:48:19.692806Z"
    },
    "papermill": {
     "duration": 0.258727,
     "end_time": "2021-06-14T19:51:54.422853",
     "exception": false,
     "start_time": "2021-06-14T19:51:54.164126",
     "status": "completed"
    },
    "tags": []
   },
   "outputs": [
    {
     "data": {
      "image/png": "[encoded data removed]",
      "text/plain": [
       "<Figure size 2400x1000 with 1 Axes>"
      ]
     },
     "metadata": {
      "needs_background": "light"
     },
     "output_type": "display_data"
    }
   ],
   "source": [
    "plt.figure(figsize=(12, 5), dpi=200)\n",
    "sns.countplot(x=\"Sex Encoded\", data=df, hue=\"Survived\")\n",
    "plt.show();"
   ]
  },
  {
   "cell_type": "code",
   "execution_count": 11,
   "metadata": {
    "execution": {
     "iopub.execute_input": "2021-06-14T19:51:54.517709Z",
     "iopub.status.busy": "2021-06-14T19:51:54.517104Z",
     "iopub.status.idle": "2021-06-14T19:51:54.522934Z",
     "shell.execute_reply": "2021-06-14T19:51:54.523435Z",
     "shell.execute_reply.started": "2021-06-14T19:48:19.909279Z"
    },
    "papermill": {
     "duration": 0.056602,
     "end_time": "2021-06-14T19:51:54.523593",
     "exception": false,
     "start_time": "2021-06-14T19:51:54.466991",
     "status": "completed"
    },
    "tags": []
   },
   "outputs": [
    {
     "data": {
      "text/plain": [
       "Sex Encoded\n",
       "0    0.188908\n",
       "1    0.740385\n",
       "Name: Survived, dtype: float64"
      ]
     },
     "execution_count": 11,
     "metadata": {},
     "output_type": "execute_result"
    }
   ],
   "source": [
    "df.groupby(\"Sex Encoded\").mean()[\"Survived\"]"
   ]
  },
  {
   "cell_type": "code",
   "execution_count": 12,
   "metadata": {
    "execution": {
     "iopub.execute_input": "2021-06-14T19:51:54.620263Z",
     "iopub.status.busy": "2021-06-14T19:51:54.619564Z",
     "iopub.status.idle": "2021-06-14T19:51:54.943506Z",
     "shell.execute_reply": "2021-06-14T19:51:54.943084Z",
     "shell.execute_reply.started": "2021-06-14T19:48:19.921934Z"
    },
    "papermill": {
     "duration": 0.375614,
     "end_time": "2021-06-14T19:51:54.943625",
     "exception": false,
     "start_time": "2021-06-14T19:51:54.568011",
     "status": "completed"
    },
    "tags": []
   },
   "outputs": [
    {
     "data": {
      "image/png": "[encoded data removed]",
      "text/plain": [
       "<Figure size 3200x1600 with 1 Axes>"
      ]
     },
     "metadata": {
      "needs_background": "light"
     },
     "output_type": "display_data"
    }
   ],
   "source": [
    "plt.figure(figsize=(16,8), dpi=200)\n",
    "sns.countplot(x=\"Embarked\", hue=\"Survived\", data=df)\n",
    "plt.show();"
   ]
  },
  {
   "cell_type": "code",
   "execution_count": 13,
   "metadata": {
    "execution": {
     "iopub.execute_input": "2021-06-14T19:51:55.037705Z",
     "iopub.status.busy": "2021-06-14T19:51:55.037158Z",
     "iopub.status.idle": "2021-06-14T19:51:55.043752Z",
     "shell.execute_reply": "2021-06-14T19:51:55.044305Z",
     "shell.execute_reply.started": "2021-06-14T19:48:20.282340Z"
    },
    "papermill": {
     "duration": 0.056573,
     "end_time": "2021-06-14T19:51:55.044457",
     "exception": false,
     "start_time": "2021-06-14T19:51:54.987884",
     "status": "completed"
    },
    "tags": []
   },
   "outputs": [
    {
     "data": {
      "text/plain": [
       "Embarked  Survived\n",
       "C         0            75\n",
       "          1            93\n",
       "Q         0            47\n",
       "          1            30\n",
       "S         0           427\n",
       "          1           217\n",
       "Name: index, dtype: int64"
      ]
     },
     "execution_count": 13,
     "metadata": {},
     "output_type": "execute_result"
    }
   ],
   "source": [
    "df.groupby([\"Embarked\", \"Survived\"]).count()[\"index\"]"
   ]
  },
  {
   "cell_type": "code",
   "execution_count": 14,
   "metadata": {
    "execution": {
     "iopub.execute_input": "2021-06-14T19:51:55.138639Z",
     "iopub.status.busy": "2021-06-14T19:51:55.138155Z",
     "iopub.status.idle": "2021-06-14T19:51:55.439370Z",
     "shell.execute_reply": "2021-06-14T19:51:55.438732Z",
     "shell.execute_reply.started": "2021-06-14T19:48:20.295656Z"
    },
    "papermill": {
     "duration": 0.348453,
     "end_time": "2021-06-14T19:51:55.439502",
     "exception": false,
     "start_time": "2021-06-14T19:51:55.091049",
     "status": "completed"
    },
    "tags": []
   },
   "outputs": [
    {
     "data": {
      "image/png": "[encoded data removed]",
      "text/plain": [
       "<Figure size 3200x1600 with 1 Axes>"
      ]
     },
     "metadata": {
      "needs_background": "light"
     },
     "output_type": "display_data"
    }
   ],
   "source": [
    "plt.figure(figsize=(16, 8), dpi=200)\n",
    "sns.boxplot(x=\"Survived\", y=\"Fare\", orient='v', palette=\"magma\", data=df)\n",
    "plt.show()"
   ]
  },
  {
   "cell_type": "code",
   "execution_count": 15,
   "metadata": {
    "execution": {
     "iopub.execute_input": "2021-06-14T19:51:55.541982Z",
     "iopub.status.busy": "2021-06-14T19:51:55.540158Z",
     "iopub.status.idle": "2021-06-14T19:51:55.544601Z",
     "shell.execute_reply": "2021-06-14T19:51:55.545096Z",
     "shell.execute_reply.started": "2021-06-14T19:48:20.627353Z"
    },
    "papermill": {
     "duration": 0.059638,
     "end_time": "2021-06-14T19:51:55.545257",
     "exception": false,
     "start_time": "2021-06-14T19:51:55.485619",
     "status": "completed"
    },
    "tags": []
   },
   "outputs": [
    {
     "data": {
      "text/plain": [
       "Survived\n",
       "0    22.117887\n",
       "1    48.209498\n",
       "Name: Fare, dtype: float64"
      ]
     },
     "execution_count": 15,
     "metadata": {},
     "output_type": "execute_result"
    }
   ],
   "source": [
    "df.groupby(\"Survived\").mean()[\"Fare\"]"
   ]
  },
  {
   "cell_type": "markdown",
   "metadata": {
    "papermill": {
     "duration": 0.047078,
     "end_time": "2021-06-14T19:51:55.638406",
     "exception": false,
     "start_time": "2021-06-14T19:51:55.591328",
     "status": "completed"
    },
    "tags": []
   },
   "source": [
    "It appears a person's gender and socioeconomic standing was a decent predictor of weather or not they survived. Furthermore, it appears that a person's number of parents and/or children seemed to garner a slightly higher survival rate. A few more relationships I explored was looking at the amount of people that died/survived from every location available in the Embark Column, and looking at the distribution of fares between people that survived or died. "
   ]
  },
  {
   "cell_type": "code",
   "execution_count": 16,
   "metadata": {
    "execution": {
     "iopub.execute_input": "2021-06-14T19:51:55.736600Z",
     "iopub.status.busy": "2021-06-14T19:51:55.736084Z",
     "iopub.status.idle": "2021-06-14T19:51:55.745656Z",
     "shell.execute_reply": "2021-06-14T19:51:55.746126Z",
     "shell.execute_reply.started": "2021-06-14T19:48:20.640121Z"
    },
    "papermill": {
     "duration": 0.061436,
     "end_time": "2021-06-14T19:51:55.746275",
     "exception": false,
     "start_time": "2021-06-14T19:51:55.684839",
     "status": "completed"
    },
    "tags": []
   },
   "outputs": [
    {
     "data": {
      "text/plain": [
       "Pclass  Sex Encoded\n",
       "1       0              0.368852\n",
       "        1              0.967391\n",
       "2       0              0.157407\n",
       "        1              0.921053\n",
       "3       0              0.135447\n",
       "        1              0.500000\n",
       "Name: Survived, dtype: float64"
      ]
     },
     "execution_count": 16,
     "metadata": {},
     "output_type": "execute_result"
    }
   ],
   "source": [
    "df.groupby([\"Pclass\", \"Sex Encoded\"]).mean()[\"Survived\"]"
   ]
  },
  {
   "cell_type": "code",
   "execution_count": 17,
   "metadata": {
    "execution": {
     "iopub.execute_input": "2021-06-14T19:51:55.843936Z",
     "iopub.status.busy": "2021-06-14T19:51:55.843401Z",
     "iopub.status.idle": "2021-06-14T19:51:55.853123Z",
     "shell.execute_reply": "2021-06-14T19:51:55.853542Z",
     "shell.execute_reply.started": "2021-06-14T19:48:20.659840Z"
    },
    "papermill": {
     "duration": 0.060163,
     "end_time": "2021-06-14T19:51:55.853678",
     "exception": false,
     "start_time": "2021-06-14T19:51:55.793515",
     "status": "completed"
    },
    "tags": []
   },
   "outputs": [
    {
     "data": {
      "text/plain": [
       "Pclass  Parch\n",
       "1       0        0.602484\n",
       "        1        0.677419\n",
       "        2        0.761905\n",
       "        4        0.000000\n",
       "2       0        0.358209\n",
       "        1        0.750000\n",
       "        2        0.812500\n",
       "        3        1.000000\n",
       "3       0        0.225722\n",
       "        1        0.363636\n",
       "        2        0.255814\n",
       "        3        0.333333\n",
       "        4        0.000000\n",
       "        5        0.200000\n",
       "        6        0.000000\n",
       "Name: Survived, dtype: float64"
      ]
     },
     "execution_count": 17,
     "metadata": {},
     "output_type": "execute_result"
    }
   ],
   "source": [
    "df.groupby([\"Pclass\", \"Parch\"]).mean()[\"Survived\"]"
   ]
  },
  {
   "cell_type": "markdown",
   "metadata": {
    "papermill": {
     "duration": 0.0472,
     "end_time": "2021-06-14T19:51:55.948540",
     "exception": false,
     "start_time": "2021-06-14T19:51:55.901340",
     "status": "completed"
    },
    "tags": []
   },
   "source": [
    "# MODEL TRAINING\n",
    "* Feature Selection\n",
    "* Dummy Encoding for cateogrical features\n",
    "* LogsticRegressionCV Model\n",
    "* Potentially Adjusting Hyperparameters"
   ]
  },
  {
   "cell_type": "code",
   "execution_count": 18,
   "metadata": {
    "execution": {
     "iopub.execute_input": "2021-06-14T19:51:56.048289Z",
     "iopub.status.busy": "2021-06-14T19:51:56.047704Z",
     "iopub.status.idle": "2021-06-14T19:51:56.059184Z",
     "shell.execute_reply": "2021-06-14T19:51:56.059733Z",
     "shell.execute_reply.started": "2021-06-14T19:48:20.676267Z"
    },
    "papermill": {
     "duration": 0.062723,
     "end_time": "2021-06-14T19:51:56.059907",
     "exception": false,
     "start_time": "2021-06-14T19:51:55.997184",
     "status": "completed"
    },
    "tags": []
   },
   "outputs": [
    {
     "data": {
      "text/html": [
       "<div>\n",
       "<style scoped>\n",
       "    .dataframe tbody tr th:only-of-type {\n",
       "        vertical-align: middle;\n",
       "    }\n",
       "\n",
       "    .dataframe tbody tr th {\n",
       "        vertical-align: top;\n",
       "    }\n",
       "\n",
       "    .dataframe thead th {\n",
       "        text-align: right;\n",
       "    }\n",
       "</style>\n",
       "<table border=\"1\" class=\"dataframe\">\n",
       "  <thead>\n",
       "    <tr style=\"text-align: right;\">\n",
       "      <th></th>\n",
       "      <th>Pclass</th>\n",
       "      <th>Parch</th>\n",
       "      <th>Sex Encoded</th>\n",
       "      <th>Fare</th>\n",
       "      <th>C</th>\n",
       "      <th>Q</th>\n",
       "      <th>S</th>\n",
       "      <th>Survived</th>\n",
       "    </tr>\n",
       "  </thead>\n",
       "  <tbody>\n",
       "    <tr>\n",
       "      <th>884</th>\n",
       "      <td>2</td>\n",
       "      <td>0</td>\n",
       "      <td>0</td>\n",
       "      <td>13.00</td>\n",
       "      <td>0</td>\n",
       "      <td>0</td>\n",
       "      <td>1</td>\n",
       "      <td>0</td>\n",
       "    </tr>\n",
       "    <tr>\n",
       "      <th>885</th>\n",
       "      <td>1</td>\n",
       "      <td>0</td>\n",
       "      <td>1</td>\n",
       "      <td>30.00</td>\n",
       "      <td>0</td>\n",
       "      <td>0</td>\n",
       "      <td>1</td>\n",
       "      <td>1</td>\n",
       "    </tr>\n",
       "    <tr>\n",
       "      <th>886</th>\n",
       "      <td>3</td>\n",
       "      <td>2</td>\n",
       "      <td>1</td>\n",
       "      <td>23.45</td>\n",
       "      <td>0</td>\n",
       "      <td>0</td>\n",
       "      <td>1</td>\n",
       "      <td>0</td>\n",
       "    </tr>\n",
       "    <tr>\n",
       "      <th>887</th>\n",
       "      <td>1</td>\n",
       "      <td>0</td>\n",
       "      <td>0</td>\n",
       "      <td>30.00</td>\n",
       "      <td>1</td>\n",
       "      <td>0</td>\n",
       "      <td>0</td>\n",
       "      <td>1</td>\n",
       "    </tr>\n",
       "    <tr>\n",
       "      <th>888</th>\n",
       "      <td>3</td>\n",
       "      <td>0</td>\n",
       "      <td>0</td>\n",
       "      <td>7.75</td>\n",
       "      <td>0</td>\n",
       "      <td>1</td>\n",
       "      <td>0</td>\n",
       "      <td>0</td>\n",
       "    </tr>\n",
       "  </tbody>\n",
       "</table>\n",
       "</div>"
      ],
      "text/plain": [
       "     Pclass  Parch  Sex Encoded   Fare  C  Q  S  Survived\n",
       "884       2      0            0  13.00  0  0  1         0\n",
       "885       1      0            1  30.00  0  0  1         1\n",
       "886       3      2            1  23.45  0  0  1         0\n",
       "887       1      0            0  30.00  1  0  0         1\n",
       "888       3      0            0   7.75  0  1  0         0"
      ]
     },
     "execution_count": 18,
     "metadata": {},
     "output_type": "execute_result"
    }
   ],
   "source": [
    "features = df[[\"Pclass\", \"Parch\", \"Sex Encoded\", \"Fare\", \"C\", \"Q\", \"S\", \"Survived\"]]\n",
    "features.tail()"
   ]
  },
  {
   "cell_type": "code",
   "execution_count": 19,
   "metadata": {
    "execution": {
     "iopub.execute_input": "2021-06-14T19:51:56.159929Z",
     "iopub.status.busy": "2021-06-14T19:51:56.159307Z",
     "iopub.status.idle": "2021-06-14T19:51:56.337938Z",
     "shell.execute_reply": "2021-06-14T19:51:56.337406Z",
     "shell.execute_reply.started": "2021-06-14T19:48:20.691879Z"
    },
    "papermill": {
     "duration": 0.229451,
     "end_time": "2021-06-14T19:51:56.338074",
     "exception": false,
     "start_time": "2021-06-14T19:51:56.108623",
     "status": "completed"
    },
    "tags": []
   },
   "outputs": [],
   "source": [
    "from sklearn.model_selection import train_test_split"
   ]
  },
  {
   "cell_type": "code",
   "execution_count": 20,
   "metadata": {
    "execution": {
     "iopub.execute_input": "2021-06-14T19:51:56.445164Z",
     "iopub.status.busy": "2021-06-14T19:51:56.444609Z",
     "iopub.status.idle": "2021-06-14T19:51:56.447104Z",
     "shell.execute_reply": "2021-06-14T19:51:56.446679Z",
     "shell.execute_reply.started": "2021-06-14T19:48:20.704506Z"
    },
    "papermill": {
     "duration": 0.058245,
     "end_time": "2021-06-14T19:51:56.447222",
     "exception": false,
     "start_time": "2021-06-14T19:51:56.388977",
     "status": "completed"
    },
    "tags": []
   },
   "outputs": [],
   "source": [
    "X = features.drop(\"Survived\", axis=1)\n",
    "y = features[\"Survived\"]"
   ]
  },
  {
   "cell_type": "code",
   "execution_count": 21,
   "metadata": {
    "execution": {
     "iopub.execute_input": "2021-06-14T19:51:56.549943Z",
     "iopub.status.busy": "2021-06-14T19:51:56.549212Z",
     "iopub.status.idle": "2021-06-14T19:51:56.551933Z",
     "shell.execute_reply": "2021-06-14T19:51:56.552320Z",
     "shell.execute_reply.started": "2021-06-14T19:48:20.718614Z"
    },
    "papermill": {
     "duration": 0.057081,
     "end_time": "2021-06-14T19:51:56.552486",
     "exception": false,
     "start_time": "2021-06-14T19:51:56.495405",
     "status": "completed"
    },
    "tags": []
   },
   "outputs": [],
   "source": [
    "X_train, X_test, y_train, y_test = train_test_split(X, y, test_size=0.10, random_state=42)"
   ]
  },
  {
   "cell_type": "code",
   "execution_count": 22,
   "metadata": {
    "execution": {
     "iopub.execute_input": "2021-06-14T19:51:56.653730Z",
     "iopub.status.busy": "2021-06-14T19:51:56.653182Z",
     "iopub.status.idle": "2021-06-14T19:51:56.656241Z",
     "shell.execute_reply": "2021-06-14T19:51:56.655789Z",
     "shell.execute_reply.started": "2021-06-14T19:48:20.731215Z"
    },
    "papermill": {
     "duration": 0.055012,
     "end_time": "2021-06-14T19:51:56.656361",
     "exception": false,
     "start_time": "2021-06-14T19:51:56.601349",
     "status": "completed"
    },
    "tags": []
   },
   "outputs": [],
   "source": [
    "# from sklearn.preprocessing import StandardScaler"
   ]
  },
  {
   "cell_type": "code",
   "execution_count": 23,
   "metadata": {
    "execution": {
     "iopub.execute_input": "2021-06-14T19:51:56.756126Z",
     "iopub.status.busy": "2021-06-14T19:51:56.755609Z",
     "iopub.status.idle": "2021-06-14T19:51:56.757971Z",
     "shell.execute_reply": "2021-06-14T19:51:56.757465Z",
     "shell.execute_reply.started": "2021-06-14T19:48:20.738637Z"
    },
    "papermill": {
     "duration": 0.053393,
     "end_time": "2021-06-14T19:51:56.758081",
     "exception": false,
     "start_time": "2021-06-14T19:51:56.704688",
     "status": "completed"
    },
    "tags": []
   },
   "outputs": [],
   "source": [
    "# scaler = StandardScaler()\n",
    "# scaled_X_train = scaler.fit_transform(X_train)\n",
    "# scaled_X_test = scaler.transform(X_test)"
   ]
  },
  {
   "cell_type": "code",
   "execution_count": 24,
   "metadata": {
    "execution": {
     "iopub.execute_input": "2021-06-14T19:51:56.859329Z",
     "iopub.status.busy": "2021-06-14T19:51:56.858704Z",
     "iopub.status.idle": "2021-06-14T19:51:57.051000Z",
     "shell.execute_reply": "2021-06-14T19:51:57.051489Z",
     "shell.execute_reply.started": "2021-06-14T19:48:20.752357Z"
    },
    "papermill": {
     "duration": 0.24533,
     "end_time": "2021-06-14T19:51:57.051640",
     "exception": false,
     "start_time": "2021-06-14T19:51:56.806310",
     "status": "completed"
    },
    "tags": []
   },
   "outputs": [],
   "source": [
    "from sklearn.model_selection import GridSearchCV\n",
    "from sklearn.linear_model import LogisticRegression\n",
    "\n",
    "param_grid = {'C': [0.05, 0.1, 0.15, .20, .30]}"
   ]
  },
  {
   "cell_type": "code",
   "execution_count": 25,
   "metadata": {
    "execution": {
     "iopub.execute_input": "2021-06-14T19:51:57.150623Z",
     "iopub.status.busy": "2021-06-14T19:51:57.150040Z",
     "iopub.status.idle": "2021-06-14T19:51:57.153548Z",
     "shell.execute_reply": "2021-06-14T19:51:57.154064Z",
     "shell.execute_reply.started": "2021-06-14T19:48:20.761169Z"
    },
    "papermill": {
     "duration": 0.055062,
     "end_time": "2021-06-14T19:51:57.154219",
     "exception": false,
     "start_time": "2021-06-14T19:51:57.099157",
     "status": "completed"
    },
    "tags": []
   },
   "outputs": [],
   "source": [
    "base_model = LogisticRegression(max_iter=1000)\n",
    "\n",
    "grid_cv_model = GridSearchCV(base_model,\n",
    "                             param_grid=param_grid,\n",
    "                             cv=5,verbose=1)"
   ]
  },
  {
   "cell_type": "code",
   "execution_count": 26,
   "metadata": {
    "_kg_hide-input": false,
    "_kg_hide-output": true,
    "execution": {
     "iopub.execute_input": "2021-06-14T19:51:57.252310Z",
     "iopub.status.busy": "2021-06-14T19:51:57.251800Z",
     "iopub.status.idle": "2021-06-14T19:51:58.054465Z",
     "shell.execute_reply": "2021-06-14T19:51:58.053980Z",
     "shell.execute_reply.started": "2021-06-14T19:48:20.772137Z"
    },
    "papermill": {
     "duration": 0.852369,
     "end_time": "2021-06-14T19:51:58.054600",
     "exception": false,
     "start_time": "2021-06-14T19:51:57.202231",
     "status": "completed"
    },
    "tags": []
   },
   "outputs": [
    {
     "name": "stdout",
     "output_type": "stream",
     "text": [
      "Fitting 5 folds for each of 5 candidates, totalling 25 fits\n"
     ]
    },
    {
     "name": "stderr",
     "output_type": "stream",
     "text": [
      "[Parallel(n_jobs=1)]: Using backend SequentialBackend with 1 concurrent workers.\n",
      "[Parallel(n_jobs=1)]: Done  25 out of  25 | elapsed:    0.5s finished\n"
     ]
    },
    {
     "data": {
      "text/plain": [
       "GridSearchCV(cv=5, estimator=LogisticRegression(max_iter=1000),\n",
       "             param_grid={'C': [0.05, 0.1, 0.15, 0.2, 0.3]}, verbose=1)"
      ]
     },
     "execution_count": 26,
     "metadata": {},
     "output_type": "execute_result"
    }
   ],
   "source": [
    "grid_cv_model.fit(X_train, y_train)"
   ]
  },
  {
   "cell_type": "code",
   "execution_count": 27,
   "metadata": {
    "execution": {
     "iopub.execute_input": "2021-06-14T19:51:58.158235Z",
     "iopub.status.busy": "2021-06-14T19:51:58.157339Z",
     "iopub.status.idle": "2021-06-14T19:51:58.160652Z",
     "shell.execute_reply": "2021-06-14T19:51:58.161091Z",
     "shell.execute_reply.started": "2021-06-14T19:48:21.652233Z"
    },
    "papermill": {
     "duration": 0.0566,
     "end_time": "2021-06-14T19:51:58.161237",
     "exception": false,
     "start_time": "2021-06-14T19:51:58.104637",
     "status": "completed"
    },
    "tags": []
   },
   "outputs": [
    {
     "data": {
      "text/plain": [
       "{'C': 0.05}"
      ]
     },
     "execution_count": 27,
     "metadata": {},
     "output_type": "execute_result"
    }
   ],
   "source": [
    "grid_cv_model.best_params_"
   ]
  },
  {
   "cell_type": "code",
   "execution_count": 28,
   "metadata": {
    "execution": {
     "iopub.execute_input": "2021-06-14T19:51:58.263398Z",
     "iopub.status.busy": "2021-06-14T19:51:58.262577Z",
     "iopub.status.idle": "2021-06-14T19:51:58.269731Z",
     "shell.execute_reply": "2021-06-14T19:51:58.270190Z",
     "shell.execute_reply.started": "2021-06-14T19:48:21.658201Z"
    },
    "papermill": {
     "duration": 0.058886,
     "end_time": "2021-06-14T19:51:58.270341",
     "exception": false,
     "start_time": "2021-06-14T19:51:58.211455",
     "status": "completed"
    },
    "tags": []
   },
   "outputs": [],
   "source": [
    "y_pred = grid_cv_model.predict(X_test)\n",
    "y_pred_prob = grid_cv_model.predict_proba(X_test)"
   ]
  },
  {
   "cell_type": "code",
   "execution_count": 29,
   "metadata": {
    "execution": {
     "iopub.execute_input": "2021-06-14T19:51:58.370967Z",
     "iopub.status.busy": "2021-06-14T19:51:58.370144Z",
     "iopub.status.idle": "2021-06-14T19:51:58.376415Z",
     "shell.execute_reply": "2021-06-14T19:51:58.375870Z",
     "shell.execute_reply.started": "2021-06-14T19:48:21.675770Z"
    },
    "papermill": {
     "duration": 0.057487,
     "end_time": "2021-06-14T19:51:58.376551",
     "exception": false,
     "start_time": "2021-06-14T19:51:58.319064",
     "status": "completed"
    },
    "tags": []
   },
   "outputs": [
    {
     "name": "stdout",
     "output_type": "stream",
     "text": [
      "For some sample entry,\n",
      "Model Prediction:  0\n",
      "Likelihood of Prediction [0.83826864 0.16173136]\n"
     ]
    }
   ],
   "source": [
    "print(\"For some sample entry,\")\n",
    "print(\"Model Prediction: \", y_pred[0])\n",
    "print(\"Likelihood of Prediction\", y_pred_prob[0])"
   ]
  },
  {
   "cell_type": "markdown",
   "metadata": {
    "papermill": {
     "duration": 0.051268,
     "end_time": "2021-06-14T19:51:58.479626",
     "exception": false,
     "start_time": "2021-06-14T19:51:58.428358",
     "status": "completed"
    },
    "tags": []
   },
   "source": [
    "# Evaluation Metrics Analysis for our LogisticCV Classification Model\n",
    "* Using accuracy score to use as a base metric for later analysis\n",
    "* Using confusion matrix visuals to show the True Positives, True Negatives, Type I Errors, and Type II Errors\n",
    "* Using Precision and Recall to validate our accuracy score\n",
    "    1. **Precision**: Reveals model metric for correctly identifying actual positives and negatives, given the model predicted positive. ($\\frac{\\text{TP}}{\\text{TP} + \\text{FP}}$)\n",
    "    2. **Recall**: Reveals model metric for correctly identifying actual positives. ($\\frac{\\text{TP}}{\\text{TP} + \\text{FN}}$)\n",
    "* NOTES: \n",
    "    * FP = False Positive = Type I Error\n",
    "    * FN = False Negative = Type II Error"
   ]
  },
  {
   "cell_type": "code",
   "execution_count": 30,
   "metadata": {
    "execution": {
     "iopub.execute_input": "2021-06-14T19:51:58.588741Z",
     "iopub.status.busy": "2021-06-14T19:51:58.588109Z",
     "iopub.status.idle": "2021-06-14T19:51:58.590761Z",
     "shell.execute_reply": "2021-06-14T19:51:58.590337Z",
     "shell.execute_reply.started": "2021-06-14T19:48:21.688231Z"
    },
    "papermill": {
     "duration": 0.05867,
     "end_time": "2021-06-14T19:51:58.590877",
     "exception": false,
     "start_time": "2021-06-14T19:51:58.532207",
     "status": "completed"
    },
    "tags": []
   },
   "outputs": [],
   "source": [
    "from sklearn.metrics import accuracy_score, confusion_matrix, classification_report"
   ]
  },
  {
   "cell_type": "code",
   "execution_count": 31,
   "metadata": {
    "execution": {
     "iopub.execute_input": "2021-06-14T19:51:58.696787Z",
     "iopub.status.busy": "2021-06-14T19:51:58.696201Z",
     "iopub.status.idle": "2021-06-14T19:51:58.698486Z",
     "shell.execute_reply": "2021-06-14T19:51:58.699052Z",
     "shell.execute_reply.started": "2021-06-14T19:48:21.696816Z"
    },
    "papermill": {
     "duration": 0.058026,
     "end_time": "2021-06-14T19:51:58.699234",
     "exception": false,
     "start_time": "2021-06-14T19:51:58.641208",
     "status": "completed"
    },
    "tags": []
   },
   "outputs": [
    {
     "data": {
      "text/plain": [
       "(array([0, 1, 1, 0, 1]), array([0, 1, 1, 0, 1]))"
      ]
     },
     "execution_count": 31,
     "metadata": {},
     "output_type": "execute_result"
    }
   ],
   "source": [
    "y_test.head().values, y_pred[0:5]"
   ]
  },
  {
   "cell_type": "code",
   "execution_count": 32,
   "metadata": {
    "execution": {
     "iopub.execute_input": "2021-06-14T19:51:58.804491Z",
     "iopub.status.busy": "2021-06-14T19:51:58.803944Z",
     "iopub.status.idle": "2021-06-14T19:51:58.808644Z",
     "shell.execute_reply": "2021-06-14T19:51:58.809205Z",
     "shell.execute_reply.started": "2021-06-14T19:48:21.708398Z"
    },
    "papermill": {
     "duration": 0.058504,
     "end_time": "2021-06-14T19:51:58.809372",
     "exception": false,
     "start_time": "2021-06-14T19:51:58.750868",
     "status": "completed"
    },
    "tags": []
   },
   "outputs": [
    {
     "data": {
      "text/plain": [
       "0.8314606741573034"
      ]
     },
     "execution_count": 32,
     "metadata": {},
     "output_type": "execute_result"
    }
   ],
   "source": [
    "accuracy_score(y_test, y_pred)"
   ]
  },
  {
   "cell_type": "code",
   "execution_count": 33,
   "metadata": {
    "execution": {
     "iopub.execute_input": "2021-06-14T19:51:58.914217Z",
     "iopub.status.busy": "2021-06-14T19:51:58.913542Z",
     "iopub.status.idle": "2021-06-14T19:51:58.919300Z",
     "shell.execute_reply": "2021-06-14T19:51:58.919849Z",
     "shell.execute_reply.started": "2021-06-14T19:48:21.720750Z"
    },
    "papermill": {
     "duration": 0.058643,
     "end_time": "2021-06-14T19:51:58.920030",
     "exception": false,
     "start_time": "2021-06-14T19:51:58.861387",
     "status": "completed"
    },
    "tags": []
   },
   "outputs": [
    {
     "data": {
      "text/plain": [
       "array([[50,  8],\n",
       "       [ 7, 24]])"
      ]
     },
     "execution_count": 33,
     "metadata": {},
     "output_type": "execute_result"
    }
   ],
   "source": [
    "confusion_matrix(y_test, y_pred)"
   ]
  },
  {
   "cell_type": "code",
   "execution_count": 34,
   "metadata": {
    "execution": {
     "iopub.execute_input": "2021-06-14T19:51:59.026199Z",
     "iopub.status.busy": "2021-06-14T19:51:59.025655Z",
     "iopub.status.idle": "2021-06-14T19:51:59.029020Z",
     "shell.execute_reply": "2021-06-14T19:51:59.029518Z",
     "shell.execute_reply.started": "2021-06-14T19:48:21.733688Z"
    },
    "papermill": {
     "duration": 0.0589,
     "end_time": "2021-06-14T19:51:59.029670",
     "exception": false,
     "start_time": "2021-06-14T19:51:58.970770",
     "status": "completed"
    },
    "tags": []
   },
   "outputs": [],
   "source": [
    "from sklearn.metrics import plot_confusion_matrix"
   ]
  },
  {
   "cell_type": "code",
   "execution_count": 35,
   "metadata": {
    "execution": {
     "iopub.execute_input": "2021-06-14T19:51:59.160948Z",
     "iopub.status.busy": "2021-06-14T19:51:59.160398Z",
     "iopub.status.idle": "2021-06-14T19:51:59.359938Z",
     "shell.execute_reply": "2021-06-14T19:51:59.359378Z",
     "shell.execute_reply.started": "2021-06-14T19:48:21.744965Z"
    },
    "papermill": {
     "duration": 0.280474,
     "end_time": "2021-06-14T19:51:59.360105",
     "exception": false,
     "start_time": "2021-06-14T19:51:59.079631",
     "status": "completed"
    },
    "tags": []
   },
   "outputs": [
    {
     "data": {
      "image/png": "[encoded data removed]",
      "text/plain": [
       "<Figure size 1200x800 with 2 Axes>"
      ]
     },
     "metadata": {
      "needs_background": "light"
     },
     "output_type": "display_data"
    }
   ],
   "source": [
    "fig, ax = plt.subplots(dpi=200)\n",
    "plot_confusion_matrix(grid_cv_model, X_test, y_test, ax=ax)\n",
    "plt.show();"
   ]
  },
  {
   "cell_type": "code",
   "execution_count": 36,
   "metadata": {
    "execution": {
     "iopub.execute_input": "2021-06-14T19:51:59.467229Z",
     "iopub.status.busy": "2021-06-14T19:51:59.466630Z",
     "iopub.status.idle": "2021-06-14T19:51:59.469281Z",
     "shell.execute_reply": "2021-06-14T19:51:59.468703Z",
     "shell.execute_reply.started": "2021-06-14T19:48:21.996153Z"
    },
    "papermill": {
     "duration": 0.057841,
     "end_time": "2021-06-14T19:51:59.469408",
     "exception": false,
     "start_time": "2021-06-14T19:51:59.411567",
     "status": "completed"
    },
    "tags": []
   },
   "outputs": [],
   "source": [
    "from sklearn.metrics import precision_score, recall_score"
   ]
  },
  {
   "cell_type": "code",
   "execution_count": 37,
   "metadata": {
    "execution": {
     "iopub.execute_input": "2021-06-14T19:51:59.580240Z",
     "iopub.status.busy": "2021-06-14T19:51:59.579658Z",
     "iopub.status.idle": "2021-06-14T19:51:59.586594Z",
     "shell.execute_reply": "2021-06-14T19:51:59.587116Z",
     "shell.execute_reply.started": "2021-06-14T19:48:22.003178Z"
    },
    "papermill": {
     "duration": 0.063711,
     "end_time": "2021-06-14T19:51:59.587257",
     "exception": false,
     "start_time": "2021-06-14T19:51:59.523546",
     "status": "completed"
    },
    "tags": []
   },
   "outputs": [
    {
     "data": {
      "text/plain": [
       "(0.75, 0.7741935483870968)"
      ]
     },
     "execution_count": 37,
     "metadata": {},
     "output_type": "execute_result"
    }
   ],
   "source": [
    "prec, rec = precision_score(y_test, y_pred), recall_score(y_test, y_pred)\n",
    "prec, rec"
   ]
  },
  {
   "cell_type": "markdown",
   "metadata": {
    "papermill": {
     "duration": 0.052205,
     "end_time": "2021-06-14T19:51:59.691680",
     "exception": false,
     "start_time": "2021-06-14T19:51:59.639475",
     "status": "completed"
    },
    "tags": []
   },
   "source": [
    "# Final Model Creation and Test\n",
    "* We will now fit our entire training Data Set to a final LogisticRegressionCV model.\n",
    "* We will import the test Data and perform one final hold one out 5-fold cross validation procedure."
   ]
  },
  {
   "cell_type": "code",
   "execution_count": 38,
   "metadata": {
    "execution": {
     "iopub.execute_input": "2021-06-14T19:51:59.809773Z",
     "iopub.status.busy": "2021-06-14T19:51:59.809153Z",
     "iopub.status.idle": "2021-06-14T19:51:59.812164Z",
     "shell.execute_reply": "2021-06-14T19:51:59.812576Z",
     "shell.execute_reply.started": "2021-06-14T19:48:22.020078Z"
    },
    "papermill": {
     "duration": 0.06984,
     "end_time": "2021-06-14T19:51:59.812714",
     "exception": false,
     "start_time": "2021-06-14T19:51:59.742874",
     "status": "completed"
    },
    "tags": []
   },
   "outputs": [
    {
     "data": {
      "text/html": [
       "<div>\n",
       "<style scoped>\n",
       "    .dataframe tbody tr th:only-of-type {\n",
       "        vertical-align: middle;\n",
       "    }\n",
       "\n",
       "    .dataframe tbody tr th {\n",
       "        vertical-align: top;\n",
       "    }\n",
       "\n",
       "    .dataframe thead th {\n",
       "        text-align: right;\n",
       "    }\n",
       "</style>\n",
       "<table border=\"1\" class=\"dataframe\">\n",
       "  <thead>\n",
       "    <tr style=\"text-align: right;\">\n",
       "      <th></th>\n",
       "      <th>Pclass</th>\n",
       "      <th>Sex Encoded</th>\n",
       "      <th>C</th>\n",
       "      <th>Q</th>\n",
       "      <th>S</th>\n",
       "      <th>Parch</th>\n",
       "      <th>Fare</th>\n",
       "      <th>Survived</th>\n",
       "    </tr>\n",
       "  </thead>\n",
       "  <tbody>\n",
       "    <tr>\n",
       "      <th>0</th>\n",
       "      <td>3</td>\n",
       "      <td>0</td>\n",
       "      <td>0</td>\n",
       "      <td>0</td>\n",
       "      <td>1</td>\n",
       "      <td>0</td>\n",
       "      <td>7.2500</td>\n",
       "      <td>0</td>\n",
       "    </tr>\n",
       "    <tr>\n",
       "      <th>1</th>\n",
       "      <td>1</td>\n",
       "      <td>1</td>\n",
       "      <td>1</td>\n",
       "      <td>0</td>\n",
       "      <td>0</td>\n",
       "      <td>0</td>\n",
       "      <td>71.2833</td>\n",
       "      <td>1</td>\n",
       "    </tr>\n",
       "    <tr>\n",
       "      <th>2</th>\n",
       "      <td>3</td>\n",
       "      <td>1</td>\n",
       "      <td>0</td>\n",
       "      <td>0</td>\n",
       "      <td>1</td>\n",
       "      <td>0</td>\n",
       "      <td>7.9250</td>\n",
       "      <td>1</td>\n",
       "    </tr>\n",
       "    <tr>\n",
       "      <th>3</th>\n",
       "      <td>1</td>\n",
       "      <td>1</td>\n",
       "      <td>0</td>\n",
       "      <td>0</td>\n",
       "      <td>1</td>\n",
       "      <td>0</td>\n",
       "      <td>53.1000</td>\n",
       "      <td>1</td>\n",
       "    </tr>\n",
       "    <tr>\n",
       "      <th>4</th>\n",
       "      <td>3</td>\n",
       "      <td>0</td>\n",
       "      <td>0</td>\n",
       "      <td>0</td>\n",
       "      <td>1</td>\n",
       "      <td>0</td>\n",
       "      <td>8.0500</td>\n",
       "      <td>0</td>\n",
       "    </tr>\n",
       "    <tr>\n",
       "      <th>...</th>\n",
       "      <td>...</td>\n",
       "      <td>...</td>\n",
       "      <td>...</td>\n",
       "      <td>...</td>\n",
       "      <td>...</td>\n",
       "      <td>...</td>\n",
       "      <td>...</td>\n",
       "      <td>...</td>\n",
       "    </tr>\n",
       "    <tr>\n",
       "      <th>884</th>\n",
       "      <td>2</td>\n",
       "      <td>0</td>\n",
       "      <td>0</td>\n",
       "      <td>0</td>\n",
       "      <td>1</td>\n",
       "      <td>0</td>\n",
       "      <td>13.0000</td>\n",
       "      <td>0</td>\n",
       "    </tr>\n",
       "    <tr>\n",
       "      <th>885</th>\n",
       "      <td>1</td>\n",
       "      <td>1</td>\n",
       "      <td>0</td>\n",
       "      <td>0</td>\n",
       "      <td>1</td>\n",
       "      <td>0</td>\n",
       "      <td>30.0000</td>\n",
       "      <td>1</td>\n",
       "    </tr>\n",
       "    <tr>\n",
       "      <th>886</th>\n",
       "      <td>3</td>\n",
       "      <td>1</td>\n",
       "      <td>0</td>\n",
       "      <td>0</td>\n",
       "      <td>1</td>\n",
       "      <td>2</td>\n",
       "      <td>23.4500</td>\n",
       "      <td>0</td>\n",
       "    </tr>\n",
       "    <tr>\n",
       "      <th>887</th>\n",
       "      <td>1</td>\n",
       "      <td>0</td>\n",
       "      <td>1</td>\n",
       "      <td>0</td>\n",
       "      <td>0</td>\n",
       "      <td>0</td>\n",
       "      <td>30.0000</td>\n",
       "      <td>1</td>\n",
       "    </tr>\n",
       "    <tr>\n",
       "      <th>888</th>\n",
       "      <td>3</td>\n",
       "      <td>0</td>\n",
       "      <td>0</td>\n",
       "      <td>1</td>\n",
       "      <td>0</td>\n",
       "      <td>0</td>\n",
       "      <td>7.7500</td>\n",
       "      <td>0</td>\n",
       "    </tr>\n",
       "  </tbody>\n",
       "</table>\n",
       "<p>889 rows × 8 columns</p>\n",
       "</div>"
      ],
      "text/plain": [
       "     Pclass  Sex Encoded  C  Q  S  Parch     Fare  Survived\n",
       "0         3            0  0  0  1      0   7.2500         0\n",
       "1         1            1  1  0  0      0  71.2833         1\n",
       "2         3            1  0  0  1      0   7.9250         1\n",
       "3         1            1  0  0  1      0  53.1000         1\n",
       "4         3            0  0  0  1      0   8.0500         0\n",
       "..      ...          ... .. .. ..    ...      ...       ...\n",
       "884       2            0  0  0  1      0  13.0000         0\n",
       "885       1            1  0  0  1      0  30.0000         1\n",
       "886       3            1  0  0  1      2  23.4500         0\n",
       "887       1            0  1  0  0      0  30.0000         1\n",
       "888       3            0  0  1  0      0   7.7500         0\n",
       "\n",
       "[889 rows x 8 columns]"
      ]
     },
     "execution_count": 38,
     "metadata": {},
     "output_type": "execute_result"
    }
   ],
   "source": [
    "# Create features df \n",
    "\n",
    "features = df[[\"Pclass\", \"Sex Encoded\", \"C\", \"Q\", \"S\", \"Parch\", \"Fare\", \"Survived\"]]\n",
    "features"
   ]
  },
  {
   "cell_type": "code",
   "execution_count": 39,
   "metadata": {
    "execution": {
     "iopub.execute_input": "2021-06-14T19:51:59.919740Z",
     "iopub.status.busy": "2021-06-14T19:51:59.919142Z",
     "iopub.status.idle": "2021-06-14T19:51:59.923724Z",
     "shell.execute_reply": "2021-06-14T19:51:59.924269Z",
     "shell.execute_reply.started": "2021-06-14T19:48:22.044427Z"
    },
    "papermill": {
     "duration": 0.059169,
     "end_time": "2021-06-14T19:51:59.924434",
     "exception": false,
     "start_time": "2021-06-14T19:51:59.865265",
     "status": "completed"
    },
    "tags": []
   },
   "outputs": [],
   "source": [
    "# Create X and y same as before\n",
    "\n",
    "X = features.drop(\"Survived\", axis=1)\n",
    "y = features[\"Survived\"]"
   ]
  },
  {
   "cell_type": "code",
   "execution_count": 40,
   "metadata": {
    "execution": {
     "iopub.execute_input": "2021-06-14T19:52:00.031410Z",
     "iopub.status.busy": "2021-06-14T19:52:00.030865Z",
     "iopub.status.idle": "2021-06-14T19:52:00.034191Z",
     "shell.execute_reply": "2021-06-14T19:52:00.034673Z",
     "shell.execute_reply.started": "2021-06-14T19:48:22.052351Z"
    },
    "papermill": {
     "duration": 0.059452,
     "end_time": "2021-06-14T19:52:00.034824",
     "exception": false,
     "start_time": "2021-06-14T19:51:59.975372",
     "status": "completed"
    },
    "tags": []
   },
   "outputs": [],
   "source": [
    "from sklearn.linear_model import LogisticRegressionCV"
   ]
  },
  {
   "cell_type": "code",
   "execution_count": 41,
   "metadata": {
    "execution": {
     "iopub.execute_input": "2021-06-14T19:52:00.144598Z",
     "iopub.status.busy": "2021-06-14T19:52:00.144034Z",
     "iopub.status.idle": "2021-06-14T19:52:00.147206Z",
     "shell.execute_reply": "2021-06-14T19:52:00.147597Z",
     "shell.execute_reply.started": "2021-06-14T19:48:22.064251Z"
    },
    "papermill": {
     "duration": 0.059473,
     "end_time": "2021-06-14T19:52:00.147732",
     "exception": false,
     "start_time": "2021-06-14T19:52:00.088259",
     "status": "completed"
    },
    "tags": []
   },
   "outputs": [],
   "source": [
    "# Fit our CV Model with the most optimal performing C-value and default 5-fold Cross Validation\n",
    "\n",
    "final_log_cv_model = LogisticRegressionCV(Cs=[0.05], cv=5, max_iter=1000)"
   ]
  },
  {
   "cell_type": "code",
   "execution_count": 42,
   "metadata": {
    "execution": {
     "iopub.execute_input": "2021-06-14T19:52:00.253720Z",
     "iopub.status.busy": "2021-06-14T19:52:00.253183Z",
     "iopub.status.idle": "2021-06-14T19:52:00.403992Z",
     "shell.execute_reply": "2021-06-14T19:52:00.404455Z",
     "shell.execute_reply.started": "2021-06-14T19:48:22.075611Z"
    },
    "papermill": {
     "duration": 0.20512,
     "end_time": "2021-06-14T19:52:00.404621",
     "exception": false,
     "start_time": "2021-06-14T19:52:00.199501",
     "status": "completed"
    },
    "tags": []
   },
   "outputs": [
    {
     "data": {
      "text/plain": [
       "LogisticRegressionCV(Cs=[0.05], cv=5, max_iter=1000)"
      ]
     },
     "execution_count": 42,
     "metadata": {},
     "output_type": "execute_result"
    }
   ],
   "source": [
    "# Fit our ENTIRE TEST DATA SET to the final model, no need for train_test_split.\n",
    "\n",
    "final_log_cv_model.fit(X, y)"
   ]
  },
  {
   "cell_type": "code",
   "execution_count": 43,
   "metadata": {
    "execution": {
     "iopub.execute_input": "2021-06-14T19:52:00.513057Z",
     "iopub.status.busy": "2021-06-14T19:52:00.512507Z",
     "iopub.status.idle": "2021-06-14T19:52:00.544225Z",
     "shell.execute_reply": "2021-06-14T19:52:00.544598Z",
     "shell.execute_reply.started": "2021-06-14T19:48:22.241391Z"
    },
    "papermill": {
     "duration": 0.087903,
     "end_time": "2021-06-14T19:52:00.544766",
     "exception": false,
     "start_time": "2021-06-14T19:52:00.456863",
     "status": "completed"
    },
    "tags": []
   },
   "outputs": [
    {
     "data": {
      "text/html": [
       "<div>\n",
       "<style scoped>\n",
       "    .dataframe tbody tr th:only-of-type {\n",
       "        vertical-align: middle;\n",
       "    }\n",
       "\n",
       "    .dataframe tbody tr th {\n",
       "        vertical-align: top;\n",
       "    }\n",
       "\n",
       "    .dataframe thead th {\n",
       "        text-align: right;\n",
       "    }\n",
       "</style>\n",
       "<table border=\"1\" class=\"dataframe\">\n",
       "  <thead>\n",
       "    <tr style=\"text-align: right;\">\n",
       "      <th></th>\n",
       "      <th>PassengerId</th>\n",
       "      <th>Pclass</th>\n",
       "      <th>Name</th>\n",
       "      <th>Sex</th>\n",
       "      <th>Age</th>\n",
       "      <th>SibSp</th>\n",
       "      <th>Parch</th>\n",
       "      <th>Ticket</th>\n",
       "      <th>Fare</th>\n",
       "      <th>Cabin</th>\n",
       "      <th>Embarked</th>\n",
       "    </tr>\n",
       "  </thead>\n",
       "  <tbody>\n",
       "    <tr>\n",
       "      <th>0</th>\n",
       "      <td>892</td>\n",
       "      <td>3</td>\n",
       "      <td>Kelly, Mr. James</td>\n",
       "      <td>male</td>\n",
       "      <td>34.5</td>\n",
       "      <td>0</td>\n",
       "      <td>0</td>\n",
       "      <td>330911</td>\n",
       "      <td>7.8292</td>\n",
       "      <td>NaN</td>\n",
       "      <td>Q</td>\n",
       "    </tr>\n",
       "    <tr>\n",
       "      <th>1</th>\n",
       "      <td>893</td>\n",
       "      <td>3</td>\n",
       "      <td>Wilkes, Mrs. James (Ellen Needs)</td>\n",
       "      <td>female</td>\n",
       "      <td>47.0</td>\n",
       "      <td>1</td>\n",
       "      <td>0</td>\n",
       "      <td>363272</td>\n",
       "      <td>7.0000</td>\n",
       "      <td>NaN</td>\n",
       "      <td>S</td>\n",
       "    </tr>\n",
       "    <tr>\n",
       "      <th>2</th>\n",
       "      <td>894</td>\n",
       "      <td>2</td>\n",
       "      <td>Myles, Mr. Thomas Francis</td>\n",
       "      <td>male</td>\n",
       "      <td>62.0</td>\n",
       "      <td>0</td>\n",
       "      <td>0</td>\n",
       "      <td>240276</td>\n",
       "      <td>9.6875</td>\n",
       "      <td>NaN</td>\n",
       "      <td>Q</td>\n",
       "    </tr>\n",
       "    <tr>\n",
       "      <th>3</th>\n",
       "      <td>895</td>\n",
       "      <td>3</td>\n",
       "      <td>Wirz, Mr. Albert</td>\n",
       "      <td>male</td>\n",
       "      <td>27.0</td>\n",
       "      <td>0</td>\n",
       "      <td>0</td>\n",
       "      <td>315154</td>\n",
       "      <td>8.6625</td>\n",
       "      <td>NaN</td>\n",
       "      <td>S</td>\n",
       "    </tr>\n",
       "    <tr>\n",
       "      <th>4</th>\n",
       "      <td>896</td>\n",
       "      <td>3</td>\n",
       "      <td>Hirvonen, Mrs. Alexander (Helga E Lindqvist)</td>\n",
       "      <td>female</td>\n",
       "      <td>22.0</td>\n",
       "      <td>1</td>\n",
       "      <td>1</td>\n",
       "      <td>3101298</td>\n",
       "      <td>12.2875</td>\n",
       "      <td>NaN</td>\n",
       "      <td>S</td>\n",
       "    </tr>\n",
       "    <tr>\n",
       "      <th>...</th>\n",
       "      <td>...</td>\n",
       "      <td>...</td>\n",
       "      <td>...</td>\n",
       "      <td>...</td>\n",
       "      <td>...</td>\n",
       "      <td>...</td>\n",
       "      <td>...</td>\n",
       "      <td>...</td>\n",
       "      <td>...</td>\n",
       "      <td>...</td>\n",
       "      <td>...</td>\n",
       "    </tr>\n",
       "    <tr>\n",
       "      <th>413</th>\n",
       "      <td>1305</td>\n",
       "      <td>3</td>\n",
       "      <td>Spector, Mr. Woolf</td>\n",
       "      <td>male</td>\n",
       "      <td>NaN</td>\n",
       "      <td>0</td>\n",
       "      <td>0</td>\n",
       "      <td>A.5. 3236</td>\n",
       "      <td>8.0500</td>\n",
       "      <td>NaN</td>\n",
       "      <td>S</td>\n",
       "    </tr>\n",
       "    <tr>\n",
       "      <th>414</th>\n",
       "      <td>1306</td>\n",
       "      <td>1</td>\n",
       "      <td>Oliva y Ocana, Dona. Fermina</td>\n",
       "      <td>female</td>\n",
       "      <td>39.0</td>\n",
       "      <td>0</td>\n",
       "      <td>0</td>\n",
       "      <td>PC 17758</td>\n",
       "      <td>108.9000</td>\n",
       "      <td>C105</td>\n",
       "      <td>C</td>\n",
       "    </tr>\n",
       "    <tr>\n",
       "      <th>415</th>\n",
       "      <td>1307</td>\n",
       "      <td>3</td>\n",
       "      <td>Saether, Mr. Simon Sivertsen</td>\n",
       "      <td>male</td>\n",
       "      <td>38.5</td>\n",
       "      <td>0</td>\n",
       "      <td>0</td>\n",
       "      <td>SOTON/O.Q. 3101262</td>\n",
       "      <td>7.2500</td>\n",
       "      <td>NaN</td>\n",
       "      <td>S</td>\n",
       "    </tr>\n",
       "    <tr>\n",
       "      <th>416</th>\n",
       "      <td>1308</td>\n",
       "      <td>3</td>\n",
       "      <td>Ware, Mr. Frederick</td>\n",
       "      <td>male</td>\n",
       "      <td>NaN</td>\n",
       "      <td>0</td>\n",
       "      <td>0</td>\n",
       "      <td>359309</td>\n",
       "      <td>8.0500</td>\n",
       "      <td>NaN</td>\n",
       "      <td>S</td>\n",
       "    </tr>\n",
       "    <tr>\n",
       "      <th>417</th>\n",
       "      <td>1309</td>\n",
       "      <td>3</td>\n",
       "      <td>Peter, Master. Michael J</td>\n",
       "      <td>male</td>\n",
       "      <td>NaN</td>\n",
       "      <td>1</td>\n",
       "      <td>1</td>\n",
       "      <td>2668</td>\n",
       "      <td>22.3583</td>\n",
       "      <td>NaN</td>\n",
       "      <td>C</td>\n",
       "    </tr>\n",
       "  </tbody>\n",
       "</table>\n",
       "<p>418 rows × 11 columns</p>\n",
       "</div>"
      ],
      "text/plain": [
       "     PassengerId  Pclass                                          Name  \\\n",
       "0            892       3                              Kelly, Mr. James   \n",
       "1            893       3              Wilkes, Mrs. James (Ellen Needs)   \n",
       "2            894       2                     Myles, Mr. Thomas Francis   \n",
       "3            895       3                              Wirz, Mr. Albert   \n",
       "4            896       3  Hirvonen, Mrs. Alexander (Helga E Lindqvist)   \n",
       "..           ...     ...                                           ...   \n",
       "413         1305       3                            Spector, Mr. Woolf   \n",
       "414         1306       1                  Oliva y Ocana, Dona. Fermina   \n",
       "415         1307       3                  Saether, Mr. Simon Sivertsen   \n",
       "416         1308       3                           Ware, Mr. Frederick   \n",
       "417         1309       3                      Peter, Master. Michael J   \n",
       "\n",
       "        Sex   Age  SibSp  Parch              Ticket      Fare Cabin Embarked  \n",
       "0      male  34.5      0      0              330911    7.8292   NaN        Q  \n",
       "1    female  47.0      1      0              363272    7.0000   NaN        S  \n",
       "2      male  62.0      0      0              240276    9.6875   NaN        Q  \n",
       "3      male  27.0      0      0              315154    8.6625   NaN        S  \n",
       "4    female  22.0      1      1             3101298   12.2875   NaN        S  \n",
       "..      ...   ...    ...    ...                 ...       ...   ...      ...  \n",
       "413    male   NaN      0      0           A.5. 3236    8.0500   NaN        S  \n",
       "414  female  39.0      0      0            PC 17758  108.9000  C105        C  \n",
       "415    male  38.5      0      0  SOTON/O.Q. 3101262    7.2500   NaN        S  \n",
       "416    male   NaN      0      0              359309    8.0500   NaN        S  \n",
       "417    male   NaN      1      1                2668   22.3583   NaN        C  \n",
       "\n",
       "[418 rows x 11 columns]"
      ]
     },
     "execution_count": 43,
     "metadata": {},
     "output_type": "execute_result"
    }
   ],
   "source": [
    "test_df = pd.read_csv(\"DATA/test.csv\")\n",
    "test_df"
   ]
  },
  {
   "cell_type": "code",
   "execution_count": 44,
   "metadata": {
    "execution": {
     "iopub.execute_input": "2021-06-14T19:52:00.658880Z",
     "iopub.status.busy": "2021-06-14T19:52:00.658317Z",
     "iopub.status.idle": "2021-06-14T19:52:00.660770Z",
     "shell.execute_reply": "2021-06-14T19:52:00.661243Z",
     "shell.execute_reply.started": "2021-06-14T19:48:22.273958Z"
    },
    "papermill": {
     "duration": 0.063634,
     "end_time": "2021-06-14T19:52:00.661388",
     "exception": false,
     "start_time": "2021-06-14T19:52:00.597754",
     "status": "completed"
    },
    "tags": []
   },
   "outputs": [
    {
     "data": {
      "text/plain": [
       "PassengerId      0\n",
       "Pclass           0\n",
       "Name             0\n",
       "Sex              0\n",
       "Age             86\n",
       "SibSp            0\n",
       "Parch            0\n",
       "Ticket           0\n",
       "Fare             1\n",
       "Cabin          327\n",
       "Embarked         0\n",
       "dtype: int64"
      ]
     },
     "execution_count": 44,
     "metadata": {},
     "output_type": "execute_result"
    }
   ],
   "source": [
    "test_df.isnull().sum()"
   ]
  },
  {
   "cell_type": "code",
   "execution_count": 45,
   "metadata": {
    "execution": {
     "iopub.execute_input": "2021-06-14T19:52:00.771335Z",
     "iopub.status.busy": "2021-06-14T19:52:00.770751Z",
     "iopub.status.idle": "2021-06-14T19:52:01.197971Z",
     "shell.execute_reply": "2021-06-14T19:52:01.198437Z",
     "shell.execute_reply.started": "2021-06-14T19:48:22.284204Z"
    },
    "papermill": {
     "duration": 0.483191,
     "end_time": "2021-06-14T19:52:01.198605",
     "exception": false,
     "start_time": "2021-06-14T19:52:00.715414",
     "status": "completed"
    },
    "tags": []
   },
   "outputs": [
    {
     "data": {
      "image/png": "[encoded data removed]",
      "text/plain": [
       "<Figure size 3200x1600 with 1 Axes>"
      ]
     },
     "metadata": {
      "needs_background": "light"
     },
     "output_type": "display_data"
    }
   ],
   "source": [
    "plt.figure(figsize=(16, 8), dpi=200)\n",
    "sns.kdeplot(test_df[\"Fare\"])\n",
    "plt.show();"
   ]
  },
  {
   "cell_type": "code",
   "execution_count": 46,
   "metadata": {
    "execution": {
     "iopub.execute_input": "2021-06-14T19:52:01.313362Z",
     "iopub.status.busy": "2021-06-14T19:52:01.312772Z",
     "iopub.status.idle": "2021-06-14T19:52:01.333135Z",
     "shell.execute_reply": "2021-06-14T19:52:01.332607Z",
     "shell.execute_reply.started": "2021-06-14T19:48:22.696131Z"
    },
    "papermill": {
     "duration": 0.077791,
     "end_time": "2021-06-14T19:52:01.333266",
     "exception": false,
     "start_time": "2021-06-14T19:52:01.255475",
     "status": "completed"
    },
    "tags": []
   },
   "outputs": [
    {
     "data": {
      "text/plain": [
       "count    417.000000\n",
       "mean      35.627188\n",
       "std       55.907576\n",
       "min        0.000000\n",
       "25%        7.895800\n",
       "50%       14.454200\n",
       "75%       31.500000\n",
       "max      512.329200\n",
       "Name: Fare, dtype: float64"
      ]
     },
     "execution_count": 46,
     "metadata": {},
     "output_type": "execute_result"
    }
   ],
   "source": [
    "fare_info = test_df.describe()[\"Fare\"]\n",
    "fare_info"
   ]
  },
  {
   "cell_type": "code",
   "execution_count": 47,
   "metadata": {
    "execution": {
     "iopub.execute_input": "2021-06-14T19:52:01.454713Z",
     "iopub.status.busy": "2021-06-14T19:52:01.454123Z",
     "iopub.status.idle": "2021-06-14T19:52:01.460637Z",
     "shell.execute_reply": "2021-06-14T19:52:01.461050Z",
     "shell.execute_reply.started": "2021-06-14T19:48:22.725181Z"
    },
    "papermill": {
     "duration": 0.070803,
     "end_time": "2021-06-14T19:52:01.461194",
     "exception": false,
     "start_time": "2021-06-14T19:52:01.390391",
     "status": "completed"
    },
    "tags": []
   },
   "outputs": [],
   "source": [
    "# Interpolating Fare info \n",
    "\n",
    "test_df = test_df.interpolate()"
   ]
  },
  {
   "cell_type": "code",
   "execution_count": 48,
   "metadata": {
    "execution": {
     "iopub.execute_input": "2021-06-14T19:52:01.594301Z",
     "iopub.status.busy": "2021-06-14T19:52:01.593592Z",
     "iopub.status.idle": "2021-06-14T19:52:01.598311Z",
     "shell.execute_reply": "2021-06-14T19:52:01.598770Z",
     "shell.execute_reply.started": "2021-06-14T19:48:22.732538Z"
    },
    "papermill": {
     "duration": 0.082667,
     "end_time": "2021-06-14T19:52:01.598948",
     "exception": false,
     "start_time": "2021-06-14T19:52:01.516281",
     "status": "completed"
    },
    "tags": []
   },
   "outputs": [
    {
     "data": {
      "text/html": [
       "<div>\n",
       "<style scoped>\n",
       "    .dataframe tbody tr th:only-of-type {\n",
       "        vertical-align: middle;\n",
       "    }\n",
       "\n",
       "    .dataframe tbody tr th {\n",
       "        vertical-align: top;\n",
       "    }\n",
       "\n",
       "    .dataframe thead th {\n",
       "        text-align: right;\n",
       "    }\n",
       "</style>\n",
       "<table border=\"1\" class=\"dataframe\">\n",
       "  <thead>\n",
       "    <tr style=\"text-align: right;\">\n",
       "      <th></th>\n",
       "      <th>Pclass</th>\n",
       "      <th>Sex Encoded</th>\n",
       "      <th>Fare</th>\n",
       "      <th>Parch</th>\n",
       "      <th>C</th>\n",
       "      <th>Q</th>\n",
       "      <th>S</th>\n",
       "    </tr>\n",
       "  </thead>\n",
       "  <tbody>\n",
       "    <tr>\n",
       "      <th>0</th>\n",
       "      <td>3</td>\n",
       "      <td>0</td>\n",
       "      <td>7.8292</td>\n",
       "      <td>0</td>\n",
       "      <td>0</td>\n",
       "      <td>1</td>\n",
       "      <td>0</td>\n",
       "    </tr>\n",
       "    <tr>\n",
       "      <th>1</th>\n",
       "      <td>3</td>\n",
       "      <td>1</td>\n",
       "      <td>7.0000</td>\n",
       "      <td>0</td>\n",
       "      <td>0</td>\n",
       "      <td>0</td>\n",
       "      <td>1</td>\n",
       "    </tr>\n",
       "    <tr>\n",
       "      <th>2</th>\n",
       "      <td>2</td>\n",
       "      <td>0</td>\n",
       "      <td>9.6875</td>\n",
       "      <td>0</td>\n",
       "      <td>0</td>\n",
       "      <td>1</td>\n",
       "      <td>0</td>\n",
       "    </tr>\n",
       "    <tr>\n",
       "      <th>3</th>\n",
       "      <td>3</td>\n",
       "      <td>0</td>\n",
       "      <td>8.6625</td>\n",
       "      <td>0</td>\n",
       "      <td>0</td>\n",
       "      <td>0</td>\n",
       "      <td>1</td>\n",
       "    </tr>\n",
       "    <tr>\n",
       "      <th>4</th>\n",
       "      <td>3</td>\n",
       "      <td>1</td>\n",
       "      <td>12.2875</td>\n",
       "      <td>1</td>\n",
       "      <td>0</td>\n",
       "      <td>0</td>\n",
       "      <td>1</td>\n",
       "    </tr>\n",
       "    <tr>\n",
       "      <th>...</th>\n",
       "      <td>...</td>\n",
       "      <td>...</td>\n",
       "      <td>...</td>\n",
       "      <td>...</td>\n",
       "      <td>...</td>\n",
       "      <td>...</td>\n",
       "      <td>...</td>\n",
       "    </tr>\n",
       "    <tr>\n",
       "      <th>413</th>\n",
       "      <td>3</td>\n",
       "      <td>0</td>\n",
       "      <td>8.0500</td>\n",
       "      <td>0</td>\n",
       "      <td>0</td>\n",
       "      <td>0</td>\n",
       "      <td>1</td>\n",
       "    </tr>\n",
       "    <tr>\n",
       "      <th>414</th>\n",
       "      <td>1</td>\n",
       "      <td>1</td>\n",
       "      <td>108.9000</td>\n",
       "      <td>0</td>\n",
       "      <td>1</td>\n",
       "      <td>0</td>\n",
       "      <td>0</td>\n",
       "    </tr>\n",
       "    <tr>\n",
       "      <th>415</th>\n",
       "      <td>3</td>\n",
       "      <td>0</td>\n",
       "      <td>7.2500</td>\n",
       "      <td>0</td>\n",
       "      <td>0</td>\n",
       "      <td>0</td>\n",
       "      <td>1</td>\n",
       "    </tr>\n",
       "    <tr>\n",
       "      <th>416</th>\n",
       "      <td>3</td>\n",
       "      <td>0</td>\n",
       "      <td>8.0500</td>\n",
       "      <td>0</td>\n",
       "      <td>0</td>\n",
       "      <td>0</td>\n",
       "      <td>1</td>\n",
       "    </tr>\n",
       "    <tr>\n",
       "      <th>417</th>\n",
       "      <td>3</td>\n",
       "      <td>0</td>\n",
       "      <td>22.3583</td>\n",
       "      <td>1</td>\n",
       "      <td>1</td>\n",
       "      <td>0</td>\n",
       "      <td>0</td>\n",
       "    </tr>\n",
       "  </tbody>\n",
       "</table>\n",
       "<p>418 rows × 7 columns</p>\n",
       "</div>"
      ],
      "text/plain": [
       "     Pclass  Sex Encoded      Fare  Parch  C  Q  S\n",
       "0         3            0    7.8292      0  0  1  0\n",
       "1         3            1    7.0000      0  0  0  1\n",
       "2         2            0    9.6875      0  0  1  0\n",
       "3         3            0    8.6625      0  0  0  1\n",
       "4         3            1   12.2875      1  0  0  1\n",
       "..      ...          ...       ...    ... .. .. ..\n",
       "413       3            0    8.0500      0  0  0  1\n",
       "414       1            1  108.9000      0  1  0  0\n",
       "415       3            0    7.2500      0  0  0  1\n",
       "416       3            0    8.0500      0  0  0  1\n",
       "417       3            0   22.3583      1  1  0  0\n",
       "\n",
       "[418 rows x 7 columns]"
      ]
     },
     "execution_count": 48,
     "metadata": {},
     "output_type": "execute_result"
    }
   ],
   "source": [
    "test_df[\"Sex Encoded\"] = pd.get_dummies(test_df[\"Sex\"])[\"female\"]\n",
    "\n",
    "test_embarked_dummies = pd.get_dummies(test_df[\"Embarked\"])\n",
    "\n",
    "test_df[\"C\"] = test_embarked_dummies[\"C\"]\n",
    "test_df[\"S\"] = test_embarked_dummies[\"S\"]\n",
    "test_df[\"Q\"] = test_embarked_dummies[\"Q\"]\n",
    "\n",
    "test_features = test_df[[\"Pclass\", \"Sex Encoded\", \"Fare\", \"Parch\", \"C\", \"Q\", \"S\"]]\n",
    "test_features"
   ]
  },
  {
   "cell_type": "code",
   "execution_count": 49,
   "metadata": {
    "execution": {
     "iopub.execute_input": "2021-06-14T19:52:01.725887Z",
     "iopub.status.busy": "2021-06-14T19:52:01.724887Z",
     "iopub.status.idle": "2021-06-14T19:52:01.727304Z",
     "shell.execute_reply": "2021-06-14T19:52:01.727797Z",
     "shell.execute_reply.started": "2021-06-14T19:48:22.766205Z"
    },
    "papermill": {
     "duration": 0.068452,
     "end_time": "2021-06-14T19:52:01.728007",
     "exception": false,
     "start_time": "2021-06-14T19:52:01.659555",
     "status": "completed"
    },
    "tags": []
   },
   "outputs": [],
   "source": [
    "final_y_pred = final_log_cv_model.predict(test_features)"
   ]
  },
  {
   "cell_type": "code",
   "execution_count": 50,
   "metadata": {
    "execution": {
     "iopub.execute_input": "2021-06-14T19:52:01.861622Z",
     "iopub.status.busy": "2021-06-14T19:52:01.861077Z",
     "iopub.status.idle": "2021-06-14T19:52:01.873303Z",
     "shell.execute_reply": "2021-06-14T19:52:01.872713Z",
     "shell.execute_reply.started": "2021-06-14T19:48:22.773894Z"
    },
    "papermill": {
     "duration": 0.073676,
     "end_time": "2021-06-14T19:52:01.873427",
     "exception": false,
     "start_time": "2021-06-14T19:52:01.799751",
     "status": "completed"
    },
    "tags": []
   },
   "outputs": [
    {
     "data": {
      "text/html": [
       "<div>\n",
       "<style scoped>\n",
       "    .dataframe tbody tr th:only-of-type {\n",
       "        vertical-align: middle;\n",
       "    }\n",
       "\n",
       "    .dataframe tbody tr th {\n",
       "        vertical-align: top;\n",
       "    }\n",
       "\n",
       "    .dataframe thead th {\n",
       "        text-align: right;\n",
       "    }\n",
       "</style>\n",
       "<table border=\"1\" class=\"dataframe\">\n",
       "  <thead>\n",
       "    <tr style=\"text-align: right;\">\n",
       "      <th></th>\n",
       "      <th>PassengerId</th>\n",
       "      <th>Survived</th>\n",
       "    </tr>\n",
       "  </thead>\n",
       "  <tbody>\n",
       "    <tr>\n",
       "      <th>0</th>\n",
       "      <td>892</td>\n",
       "      <td>0</td>\n",
       "    </tr>\n",
       "    <tr>\n",
       "      <th>1</th>\n",
       "      <td>893</td>\n",
       "      <td>1</td>\n",
       "    </tr>\n",
       "    <tr>\n",
       "      <th>2</th>\n",
       "      <td>894</td>\n",
       "      <td>1</td>\n",
       "    </tr>\n",
       "    <tr>\n",
       "      <th>3</th>\n",
       "      <td>895</td>\n",
       "      <td>0</td>\n",
       "    </tr>\n",
       "    <tr>\n",
       "      <th>4</th>\n",
       "      <td>896</td>\n",
       "      <td>1</td>\n",
       "    </tr>\n",
       "    <tr>\n",
       "      <th>...</th>\n",
       "      <td>...</td>\n",
       "      <td>...</td>\n",
       "    </tr>\n",
       "    <tr>\n",
       "      <th>413</th>\n",
       "      <td>1305</td>\n",
       "      <td>0</td>\n",
       "    </tr>\n",
       "    <tr>\n",
       "      <th>414</th>\n",
       "      <td>1306</td>\n",
       "      <td>1</td>\n",
       "    </tr>\n",
       "    <tr>\n",
       "      <th>415</th>\n",
       "      <td>1307</td>\n",
       "      <td>0</td>\n",
       "    </tr>\n",
       "    <tr>\n",
       "      <th>416</th>\n",
       "      <td>1308</td>\n",
       "      <td>0</td>\n",
       "    </tr>\n",
       "    <tr>\n",
       "      <th>417</th>\n",
       "      <td>1309</td>\n",
       "      <td>1</td>\n",
       "    </tr>\n",
       "  </tbody>\n",
       "</table>\n",
       "<p>418 rows × 2 columns</p>\n",
       "</div>"
      ],
      "text/plain": [
       "     PassengerId  Survived\n",
       "0            892         0\n",
       "1            893         1\n",
       "2            894         1\n",
       "3            895         0\n",
       "4            896         1\n",
       "..           ...       ...\n",
       "413         1305         0\n",
       "414         1306         1\n",
       "415         1307         0\n",
       "416         1308         0\n",
       "417         1309         1\n",
       "\n",
       "[418 rows x 2 columns]"
      ]
     },
     "execution_count": 50,
     "metadata": {},
     "output_type": "execute_result"
    }
   ],
   "source": [
    "# No further analysis is done, we submit the predictions for a true evaluation on unseen data\n",
    "\n",
    "results_df = pd.DataFrame()\n",
    "\n",
    "results_df[\"PassengerId\"] = test_df[\"PassengerId\"]\n",
    "results_df[\"Survived\"] = final_y_pred\n",
    "\n",
    "results_df"
   ]
  },
  {
   "cell_type": "code",
   "execution_count": 51,
   "metadata": {},
   "outputs": [
    {
     "data": {
      "text/html": [
       "<div>\n",
       "<style scoped>\n",
       "    .dataframe tbody tr th:only-of-type {\n",
       "        vertical-align: middle;\n",
       "    }\n",
       "\n",
       "    .dataframe tbody tr th {\n",
       "        vertical-align: top;\n",
       "    }\n",
       "\n",
       "    .dataframe thead th {\n",
       "        text-align: right;\n",
       "    }\n",
       "</style>\n",
       "<table border=\"1\" class=\"dataframe\">\n",
       "  <thead>\n",
       "    <tr style=\"text-align: right;\">\n",
       "      <th></th>\n",
       "      <th>Survived</th>\n",
       "    </tr>\n",
       "    <tr>\n",
       "      <th>PassengerId</th>\n",
       "      <th></th>\n",
       "    </tr>\n",
       "  </thead>\n",
       "  <tbody>\n",
       "    <tr>\n",
       "      <th>892</th>\n",
       "      <td>0</td>\n",
       "    </tr>\n",
       "    <tr>\n",
       "      <th>893</th>\n",
       "      <td>1</td>\n",
       "    </tr>\n",
       "    <tr>\n",
       "      <th>894</th>\n",
       "      <td>1</td>\n",
       "    </tr>\n",
       "    <tr>\n",
       "      <th>895</th>\n",
       "      <td>0</td>\n",
       "    </tr>\n",
       "    <tr>\n",
       "      <th>896</th>\n",
       "      <td>1</td>\n",
       "    </tr>\n",
       "  </tbody>\n",
       "</table>\n",
       "</div>"
      ],
      "text/plain": [
       "             Survived\n",
       "PassengerId          \n",
       "892                 0\n",
       "893                 1\n",
       "894                 1\n",
       "895                 0\n",
       "896                 1"
      ]
     },
     "execution_count": 51,
     "metadata": {},
     "output_type": "execute_result"
    }
   ],
   "source": [
    "results_df = results_df.set_index(\"PassengerId\")\n",
    "results_df.head()"
   ]
  },
  {
   "cell_type": "code",
   "execution_count": 52,
   "metadata": {
    "execution": {
     "iopub.execute_input": "2021-06-14T19:52:01.991759Z",
     "iopub.status.busy": "2021-06-14T19:52:01.991155Z",
     "iopub.status.idle": "2021-06-14T19:52:01.993856Z",
     "shell.execute_reply": "2021-06-14T19:52:01.993392Z",
     "shell.execute_reply.started": "2021-06-14T19:48:22.797615Z"
    },
    "papermill": {
     "duration": 0.062844,
     "end_time": "2021-06-14T19:52:01.994017",
     "exception": false,
     "start_time": "2021-06-14T19:52:01.931173",
     "status": "completed"
    },
    "tags": []
   },
   "outputs": [],
   "source": [
    "results_df.to_csv(\"submission.csv\")"
   ]
  },
  {
   "cell_type": "code",
   "execution_count": null,
   "metadata": {
    "papermill": {
     "duration": 0.057518,
     "end_time": "2021-06-14T19:52:02.109510",
     "exception": false,
     "start_time": "2021-06-14T19:52:02.051992",
     "status": "completed"
    },
    "tags": []
   },
   "outputs": [],
   "source": []
  }
 ],
 "metadata": {
  "kernelspec": {
   "display_name": "Python 3",
   "language": "python",
   "name": "python3"
  },
  "language_info": {
   "codemirror_mode": {
    "name": "ipython",
    "version": 3
   },
   "file_extension": ".py",
   "mimetype": "text/x-python",
   "name": "python",
   "nbconvert_exporter": "python",
   "pygments_lexer": "ipython3",
   "version": "3.8.5"
  },
  "papermill": {
   "default_parameters": {},
   "duration": 18.895092,
   "end_time": "2021-06-14T19:52:03.435934",
   "environment_variables": {},
   "exception": null,
   "input_path": "__notebook__.ipynb",
   "output_path": "__notebook__.ipynb",
   "parameters": {},
   "start_time": "2021-06-14T19:51:44.540842",
   "version": "2.3.3"
  }
 },
 "nbformat": 4,
 "nbformat_minor": 5
}
